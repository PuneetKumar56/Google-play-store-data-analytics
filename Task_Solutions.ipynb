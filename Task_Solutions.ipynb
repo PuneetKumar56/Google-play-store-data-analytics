{
 "cells": [
  {
   "cell_type": "markdown",
   "id": "701e7a6e-1852-4175-a1a3-bb7596909dea",
   "metadata": {},
   "source": [
    "# Task 1 : Sentiment Distribution by Rating Group (Stacked Bar Chart)"
   ]
  },
  {
   "cell_type": "code",
   "execution_count": null,
   "id": "9f0ab840-420d-45b4-8c99-3cfbb91e3fbd",
   "metadata": {},
   "outputs": [],
   "source": [
    "# Task : \n",
    "Visualize the sentiment distribution (positive, neutral, negative) of user reviews using a stacked bar chart, \n",
    "segmented by rating groups (e.g., 1-2 stars, 3-4 stars, 4-5 stars). Include only apps with more than 1,000 \n",
    "reviews and group by the top 5 categories."
   ]
  },
  {
   "cell_type": "code",
   "execution_count": 65,
   "id": "f1b14129-8448-43e9-8b2c-bef60ea0d185",
   "metadata": {},
   "outputs": [],
   "source": [
    "# Import Libraries \n",
    "from datetime import datetime, timezone, timedelta\n",
    "import pandas as pd\n",
    "import numpy as np\n",
    "import plotly.express as px\n",
    "import plotly.graph_objects as go\n",
    "import plotly.io as pio\n",
    "from nltk.sentiment.vader import SentimentIntensityAnalyzer\n",
    "import nltk\n",
    "import webbrowser\n",
    "import os"
   ]
  },
  {
   "cell_type": "code",
   "execution_count": 2,
   "id": "556e5728-2653-4099-8570-30b92a85b746",
   "metadata": {},
   "outputs": [
    {
     "data": {
      "text/html": [
       "<div>\n",
       "<style scoped>\n",
       "    .dataframe tbody tr th:only-of-type {\n",
       "        vertical-align: middle;\n",
       "    }\n",
       "\n",
       "    .dataframe tbody tr th {\n",
       "        vertical-align: top;\n",
       "    }\n",
       "\n",
       "    .dataframe thead th {\n",
       "        text-align: right;\n",
       "    }\n",
       "</style>\n",
       "<table border=\"1\" class=\"dataframe\">\n",
       "  <thead>\n",
       "    <tr style=\"text-align: right;\">\n",
       "      <th></th>\n",
       "      <th>App</th>\n",
       "      <th>Category</th>\n",
       "      <th>Rating</th>\n",
       "      <th>Reviews</th>\n",
       "      <th>SizeInMB</th>\n",
       "      <th>Installs</th>\n",
       "      <th>Type</th>\n",
       "      <th>PriceInDollar</th>\n",
       "      <th>Content Rating</th>\n",
       "      <th>Genres</th>\n",
       "      <th>Last Updated</th>\n",
       "      <th>Update_Year</th>\n",
       "      <th>Revenue</th>\n",
       "      <th>Log_Installs</th>\n",
       "      <th>Log_Reviews</th>\n",
       "      <th>Rating_group</th>\n",
       "    </tr>\n",
       "  </thead>\n",
       "  <tbody>\n",
       "    <tr>\n",
       "      <th>0</th>\n",
       "      <td>\"i DT\" Fútbol. Todos Somos Técnicos.</td>\n",
       "      <td>SPORTS</td>\n",
       "      <td>4.5</td>\n",
       "      <td>27.0</td>\n",
       "      <td>3.6</td>\n",
       "      <td>500</td>\n",
       "      <td>Free</td>\n",
       "      <td>0.0</td>\n",
       "      <td>Everyone</td>\n",
       "      <td>Sports</td>\n",
       "      <td>2017-10-07</td>\n",
       "      <td>2017</td>\n",
       "      <td>0.0</td>\n",
       "      <td>6.214608</td>\n",
       "      <td>3.295837</td>\n",
       "      <td>Top Rated Appa</td>\n",
       "    </tr>\n",
       "    <tr>\n",
       "      <th>1</th>\n",
       "      <td>+Download 4 Instagram Twitter</td>\n",
       "      <td>SOCIAL</td>\n",
       "      <td>4.5</td>\n",
       "      <td>40467.0</td>\n",
       "      <td>22.0</td>\n",
       "      <td>1000000</td>\n",
       "      <td>Free</td>\n",
       "      <td>0.0</td>\n",
       "      <td>Everyone</td>\n",
       "      <td>Social</td>\n",
       "      <td>2018-08-02</td>\n",
       "      <td>2018</td>\n",
       "      <td>0.0</td>\n",
       "      <td>13.815511</td>\n",
       "      <td>10.608242</td>\n",
       "      <td>Top Rated Appa</td>\n",
       "    </tr>\n",
       "    <tr>\n",
       "      <th>2</th>\n",
       "      <td>- Free Comics - Comic Apps</td>\n",
       "      <td>COMICS</td>\n",
       "      <td>3.5</td>\n",
       "      <td>115.0</td>\n",
       "      <td>9.1</td>\n",
       "      <td>10000</td>\n",
       "      <td>Free</td>\n",
       "      <td>0.0</td>\n",
       "      <td>Mature 17+</td>\n",
       "      <td>Comics</td>\n",
       "      <td>2018-07-13</td>\n",
       "      <td>2018</td>\n",
       "      <td>0.0</td>\n",
       "      <td>9.210340</td>\n",
       "      <td>4.744932</td>\n",
       "      <td>Above Average Rated Apps</td>\n",
       "    </tr>\n",
       "  </tbody>\n",
       "</table>\n",
       "</div>"
      ],
      "text/plain": [
       "                                    App Category  Rating  Reviews  SizeInMB  \\\n",
       "0  \"i DT\" Fútbol. Todos Somos Técnicos.   SPORTS     4.5     27.0       3.6   \n",
       "1         +Download 4 Instagram Twitter   SOCIAL     4.5  40467.0      22.0   \n",
       "2            - Free Comics - Comic Apps   COMICS     3.5    115.0       9.1   \n",
       "\n",
       "   Installs  Type  PriceInDollar Content Rating  Genres Last Updated  \\\n",
       "0       500  Free            0.0       Everyone  Sports   2017-10-07   \n",
       "1   1000000  Free            0.0       Everyone  Social   2018-08-02   \n",
       "2     10000  Free            0.0     Mature 17+  Comics   2018-07-13   \n",
       "\n",
       "   Update_Year  Revenue  Log_Installs  Log_Reviews              Rating_group  \n",
       "0         2017      0.0      6.214608     3.295837            Top Rated Appa  \n",
       "1         2018      0.0     13.815511    10.608242            Top Rated Appa  \n",
       "2         2018      0.0      9.210340     4.744932  Above Average Rated Apps  "
      ]
     },
     "execution_count": 2,
     "metadata": {},
     "output_type": "execute_result"
    }
   ],
   "source": [
    "# Load Clean Apps dataset that already cleaned by previous pandas queries(code)\n",
    "app_df = pd.read_csv(\"D:/Google Play Store Intern/Clean Play Store Data.csv\")\n",
    "app_df.head(3)"
   ]
  },
  {
   "cell_type": "code",
   "execution_count": 3,
   "id": "6bd0bbd3-f2e8-49e4-89ae-5e54c14a6015",
   "metadata": {},
   "outputs": [
    {
     "name": "stdout",
     "output_type": "stream",
     "text": [
      "<class 'pandas.core.frame.DataFrame'>\n",
      "RangeIndex: 9659 entries, 0 to 9658\n",
      "Data columns (total 16 columns):\n",
      " #   Column          Non-Null Count  Dtype  \n",
      "---  ------          --------------  -----  \n",
      " 0   App             9659 non-null   object \n",
      " 1   Category        9659 non-null   object \n",
      " 2   Rating          9659 non-null   float64\n",
      " 3   Reviews         9659 non-null   float64\n",
      " 4   SizeInMB        8120 non-null   float64\n",
      " 5   Installs        9659 non-null   int64  \n",
      " 6   Type            9659 non-null   object \n",
      " 7   PriceInDollar   9659 non-null   float64\n",
      " 8   Content Rating  9659 non-null   object \n",
      " 9   Genres          9659 non-null   object \n",
      " 10  Last Updated    9659 non-null   object \n",
      " 11  Update_Year     9659 non-null   int64  \n",
      " 12  Revenue         9659 non-null   float64\n",
      " 13  Log_Installs    9659 non-null   float64\n",
      " 14  Log_Reviews     9659 non-null   float64\n",
      " 15  Rating_group    9659 non-null   object \n",
      "dtypes: float64(7), int64(2), object(7)\n",
      "memory usage: 1.2+ MB\n"
     ]
    }
   ],
   "source": [
    "app_df.info()"
   ]
  },
  {
   "cell_type": "code",
   "execution_count": 9,
   "id": "dede9488-4103-4117-b9e4-9ca7f93427cf",
   "metadata": {},
   "outputs": [],
   "source": [
    "app_df.drop(columns = ['Log_Installs', 'Log_Reviews'],inplace = True) # remove unnecessary colums"
   ]
  },
  {
   "cell_type": "code",
   "execution_count": 10,
   "id": "eaf3c113-5bae-48a3-a402-729a82c6d90f",
   "metadata": {},
   "outputs": [
    {
     "data": {
      "text/html": [
       "<div>\n",
       "<style scoped>\n",
       "    .dataframe tbody tr th:only-of-type {\n",
       "        vertical-align: middle;\n",
       "    }\n",
       "\n",
       "    .dataframe tbody tr th {\n",
       "        vertical-align: top;\n",
       "    }\n",
       "\n",
       "    .dataframe thead th {\n",
       "        text-align: right;\n",
       "    }\n",
       "</style>\n",
       "<table border=\"1\" class=\"dataframe\">\n",
       "  <thead>\n",
       "    <tr style=\"text-align: right;\">\n",
       "      <th></th>\n",
       "      <th>Rating</th>\n",
       "      <th>Reviews</th>\n",
       "      <th>SizeInMB</th>\n",
       "      <th>Installs</th>\n",
       "      <th>PriceInDollar</th>\n",
       "      <th>Update_Year</th>\n",
       "      <th>Revenue</th>\n",
       "    </tr>\n",
       "  </thead>\n",
       "  <tbody>\n",
       "    <tr>\n",
       "      <th>count</th>\n",
       "      <td>9659.000000</td>\n",
       "      <td>9.659000e+03</td>\n",
       "      <td>8120.000000</td>\n",
       "      <td>9.659000e+03</td>\n",
       "      <td>9659.000000</td>\n",
       "      <td>9659.000000</td>\n",
       "      <td>9.659000e+03</td>\n",
       "    </tr>\n",
       "    <tr>\n",
       "      <th>mean</th>\n",
       "      <td>4.175961</td>\n",
       "      <td>2.166345e+05</td>\n",
       "      <td>21.162611</td>\n",
       "      <td>7.777507e+06</td>\n",
       "      <td>1.099299</td>\n",
       "      <td>2017.345688</td>\n",
       "      <td>3.014231e+04</td>\n",
       "    </tr>\n",
       "    <tr>\n",
       "      <th>std</th>\n",
       "      <td>0.567046</td>\n",
       "      <td>1.831136e+06</td>\n",
       "      <td>21.882333</td>\n",
       "      <td>5.375828e+07</td>\n",
       "      <td>16.852152</td>\n",
       "      <td>1.137600</td>\n",
       "      <td>8.716572e+05</td>\n",
       "    </tr>\n",
       "    <tr>\n",
       "      <th>min</th>\n",
       "      <td>1.000000</td>\n",
       "      <td>0.000000e+00</td>\n",
       "      <td>1.000000</td>\n",
       "      <td>0.000000e+00</td>\n",
       "      <td>0.000000</td>\n",
       "      <td>2010.000000</td>\n",
       "      <td>0.000000e+00</td>\n",
       "    </tr>\n",
       "    <tr>\n",
       "      <th>25%</th>\n",
       "      <td>4.000000</td>\n",
       "      <td>2.500000e+01</td>\n",
       "      <td>5.100000</td>\n",
       "      <td>1.000000e+03</td>\n",
       "      <td>0.000000</td>\n",
       "      <td>2017.000000</td>\n",
       "      <td>0.000000e+00</td>\n",
       "    </tr>\n",
       "    <tr>\n",
       "      <th>50%</th>\n",
       "      <td>4.300000</td>\n",
       "      <td>9.690000e+02</td>\n",
       "      <td>13.000000</td>\n",
       "      <td>1.000000e+05</td>\n",
       "      <td>0.000000</td>\n",
       "      <td>2018.000000</td>\n",
       "      <td>0.000000e+00</td>\n",
       "    </tr>\n",
       "    <tr>\n",
       "      <th>75%</th>\n",
       "      <td>4.500000</td>\n",
       "      <td>2.942550e+04</td>\n",
       "      <td>29.000000</td>\n",
       "      <td>1.000000e+06</td>\n",
       "      <td>0.000000</td>\n",
       "      <td>2018.000000</td>\n",
       "      <td>0.000000e+00</td>\n",
       "    </tr>\n",
       "    <tr>\n",
       "      <th>max</th>\n",
       "      <td>5.000000</td>\n",
       "      <td>7.814326e+07</td>\n",
       "      <td>100.000000</td>\n",
       "      <td>1.000000e+09</td>\n",
       "      <td>400.000000</td>\n",
       "      <td>2018.000000</td>\n",
       "      <td>6.990000e+07</td>\n",
       "    </tr>\n",
       "  </tbody>\n",
       "</table>\n",
       "</div>"
      ],
      "text/plain": [
       "            Rating       Reviews     SizeInMB      Installs  PriceInDollar  \\\n",
       "count  9659.000000  9.659000e+03  8120.000000  9.659000e+03    9659.000000   \n",
       "mean      4.175961  2.166345e+05    21.162611  7.777507e+06       1.099299   \n",
       "std       0.567046  1.831136e+06    21.882333  5.375828e+07      16.852152   \n",
       "min       1.000000  0.000000e+00     1.000000  0.000000e+00       0.000000   \n",
       "25%       4.000000  2.500000e+01     5.100000  1.000000e+03       0.000000   \n",
       "50%       4.300000  9.690000e+02    13.000000  1.000000e+05       0.000000   \n",
       "75%       4.500000  2.942550e+04    29.000000  1.000000e+06       0.000000   \n",
       "max       5.000000  7.814326e+07   100.000000  1.000000e+09     400.000000   \n",
       "\n",
       "       Update_Year       Revenue  \n",
       "count  9659.000000  9.659000e+03  \n",
       "mean   2017.345688  3.014231e+04  \n",
       "std       1.137600  8.716572e+05  \n",
       "min    2010.000000  0.000000e+00  \n",
       "25%    2017.000000  0.000000e+00  \n",
       "50%    2018.000000  0.000000e+00  \n",
       "75%    2018.000000  0.000000e+00  \n",
       "max    2018.000000  6.990000e+07  "
      ]
     },
     "execution_count": 10,
     "metadata": {},
     "output_type": "execute_result"
    }
   ],
   "source": [
    "app_df.describe()"
   ]
  },
  {
   "cell_type": "code",
   "execution_count": 11,
   "id": "f3ffca78-55a9-4933-8ef7-8b82c0ee29ae",
   "metadata": {},
   "outputs": [
    {
     "data": {
      "text/html": [
       "<div>\n",
       "<style scoped>\n",
       "    .dataframe tbody tr th:only-of-type {\n",
       "        vertical-align: middle;\n",
       "    }\n",
       "\n",
       "    .dataframe tbody tr th {\n",
       "        vertical-align: top;\n",
       "    }\n",
       "\n",
       "    .dataframe thead th {\n",
       "        text-align: right;\n",
       "    }\n",
       "</style>\n",
       "<table border=\"1\" class=\"dataframe\">\n",
       "  <thead>\n",
       "    <tr style=\"text-align: right;\">\n",
       "      <th></th>\n",
       "      <th>App</th>\n",
       "      <th>Total_Review</th>\n",
       "      <th>Avg_Polarity</th>\n",
       "      <th>Avg_Subjectivity</th>\n",
       "      <th>Avg_Sentiment_Score</th>\n",
       "      <th>Negative_Review</th>\n",
       "      <th>Neutral_Review</th>\n",
       "      <th>Positive_Review</th>\n",
       "    </tr>\n",
       "  </thead>\n",
       "  <tbody>\n",
       "    <tr>\n",
       "      <th>0</th>\n",
       "      <td>10 Best Foods for You</td>\n",
       "      <td>194</td>\n",
       "      <td>0.470733</td>\n",
       "      <td>0.495455</td>\n",
       "      <td>0.505611</td>\n",
       "      <td>10</td>\n",
       "      <td>22</td>\n",
       "      <td>162</td>\n",
       "    </tr>\n",
       "    <tr>\n",
       "      <th>1</th>\n",
       "      <td>104 找工作 - 找工作 找打工 找兼職 履歷健檢 履歷診療室</td>\n",
       "      <td>40</td>\n",
       "      <td>0.392405</td>\n",
       "      <td>0.545516</td>\n",
       "      <td>0.472627</td>\n",
       "      <td>1</td>\n",
       "      <td>8</td>\n",
       "      <td>31</td>\n",
       "    </tr>\n",
       "    <tr>\n",
       "      <th>2</th>\n",
       "      <td>11st</td>\n",
       "      <td>39</td>\n",
       "      <td>0.185943</td>\n",
       "      <td>0.455340</td>\n",
       "      <td>0.136292</td>\n",
       "      <td>7</td>\n",
       "      <td>9</td>\n",
       "      <td>23</td>\n",
       "    </tr>\n",
       "    <tr>\n",
       "      <th>3</th>\n",
       "      <td>1800 Contacts - Lens Store</td>\n",
       "      <td>80</td>\n",
       "      <td>0.318145</td>\n",
       "      <td>0.591098</td>\n",
       "      <td>0.519508</td>\n",
       "      <td>6</td>\n",
       "      <td>10</td>\n",
       "      <td>64</td>\n",
       "    </tr>\n",
       "    <tr>\n",
       "      <th>4</th>\n",
       "      <td>1LINE – One Line with One Touch</td>\n",
       "      <td>38</td>\n",
       "      <td>0.196290</td>\n",
       "      <td>0.557315</td>\n",
       "      <td>0.338368</td>\n",
       "      <td>8</td>\n",
       "      <td>3</td>\n",
       "      <td>27</td>\n",
       "    </tr>\n",
       "  </tbody>\n",
       "</table>\n",
       "</div>"
      ],
      "text/plain": [
       "                                App  Total_Review  Avg_Polarity  \\\n",
       "0             10 Best Foods for You           194      0.470733   \n",
       "1  104 找工作 - 找工作 找打工 找兼職 履歷健檢 履歷診療室            40      0.392405   \n",
       "2                              11st            39      0.185943   \n",
       "3        1800 Contacts - Lens Store            80      0.318145   \n",
       "4   1LINE – One Line with One Touch            38      0.196290   \n",
       "\n",
       "   Avg_Subjectivity  Avg_Sentiment_Score  Negative_Review  Neutral_Review  \\\n",
       "0          0.495455             0.505611               10              22   \n",
       "1          0.545516             0.472627                1               8   \n",
       "2          0.455340             0.136292                7               9   \n",
       "3          0.591098             0.519508                6              10   \n",
       "4          0.557315             0.338368                8               3   \n",
       "\n",
       "   Positive_Review  \n",
       "0              162  \n",
       "1               31  \n",
       "2               23  \n",
       "3               64  \n",
       "4               27  "
      ]
     },
     "execution_count": 11,
     "metadata": {},
     "output_type": "execute_result"
    }
   ],
   "source": [
    "# Load Clean Review dataset that already cleaned by previous pandas queries(code)\n",
    "review_df = pd.read_csv(\"D:/Google Play Store Intern/Clean User Reviews.csv\")\n",
    "review_df.head()"
   ]
  },
  {
   "cell_type": "code",
   "execution_count": 6,
   "id": "f4ee880d-8323-4e96-ae58-2853efbc7630",
   "metadata": {},
   "outputs": [
    {
     "name": "stdout",
     "output_type": "stream",
     "text": [
      "<class 'pandas.core.frame.DataFrame'>\n",
      "RangeIndex: 865 entries, 0 to 864\n",
      "Data columns (total 8 columns):\n",
      " #   Column               Non-Null Count  Dtype  \n",
      "---  ------               --------------  -----  \n",
      " 0   App                  865 non-null    object \n",
      " 1   Total_Review         865 non-null    int64  \n",
      " 2   Avg_Polarity         865 non-null    float64\n",
      " 3   Avg_Subjectivity     865 non-null    float64\n",
      " 4   Avg_Sentiment_Score  865 non-null    float64\n",
      " 5   Negative_Review      865 non-null    int64  \n",
      " 6   Neutral_Review       865 non-null    int64  \n",
      " 7   Positive_Review      865 non-null    int64  \n",
      "dtypes: float64(3), int64(4), object(1)\n",
      "memory usage: 54.2+ KB\n"
     ]
    }
   ],
   "source": [
    "review_df.info()"
   ]
  },
  {
   "cell_type": "code",
   "execution_count": 12,
   "id": "548c7e84-92c3-415a-a9f7-07a46c400dab",
   "metadata": {},
   "outputs": [],
   "source": [
    "# merge both dataset (apps dataset and review dataset )\n",
    "merge_df = pd.merge(app_df, review_df, on = 'App',how = 'left')"
   ]
  },
  {
   "cell_type": "code",
   "execution_count": 13,
   "id": "58ead51b-c6db-498e-af47-ee586479dcf4",
   "metadata": {},
   "outputs": [
    {
     "data": {
      "text/plain": [
       "(9659, 21)"
      ]
     },
     "execution_count": 13,
     "metadata": {},
     "output_type": "execute_result"
    }
   ],
   "source": [
    "merge_df.shape"
   ]
  },
  {
   "cell_type": "code",
   "execution_count": 14,
   "id": "3853ed41-3f58-440e-bd08-edeb6f109db8",
   "metadata": {},
   "outputs": [
    {
     "data": {
      "text/plain": [
       "['App',\n",
       " 'Category',\n",
       " 'Rating',\n",
       " 'Reviews',\n",
       " 'SizeInMB',\n",
       " 'Installs',\n",
       " 'Type',\n",
       " 'PriceInDollar',\n",
       " 'Content Rating',\n",
       " 'Genres',\n",
       " 'Last Updated',\n",
       " 'Update_Year',\n",
       " 'Revenue',\n",
       " 'Rating_group',\n",
       " 'Total_Review',\n",
       " 'Avg_Polarity',\n",
       " 'Avg_Subjectivity',\n",
       " 'Avg_Sentiment_Score',\n",
       " 'Negative_Review',\n",
       " 'Neutral_Review',\n",
       " 'Positive_Review']"
      ]
     },
     "execution_count": 14,
     "metadata": {},
     "output_type": "execute_result"
    }
   ],
   "source": [
    "Columns = merge_df.columns.tolist()\n",
    "Columns"
   ]
  },
  {
   "cell_type": "code",
   "execution_count": 15,
   "id": "9f015881-beb9-4046-9dc5-c62b785b98b9",
   "metadata": {},
   "outputs": [
    {
     "data": {
      "text/html": [
       "<div>\n",
       "<style scoped>\n",
       "    .dataframe tbody tr th:only-of-type {\n",
       "        vertical-align: middle;\n",
       "    }\n",
       "\n",
       "    .dataframe tbody tr th {\n",
       "        vertical-align: top;\n",
       "    }\n",
       "\n",
       "    .dataframe thead th {\n",
       "        text-align: right;\n",
       "    }\n",
       "</style>\n",
       "<table border=\"1\" class=\"dataframe\">\n",
       "  <thead>\n",
       "    <tr style=\"text-align: right;\">\n",
       "      <th></th>\n",
       "      <th>App</th>\n",
       "      <th>Category</th>\n",
       "      <th>Rating</th>\n",
       "      <th>Reviews</th>\n",
       "      <th>SizeInMB</th>\n",
       "      <th>Installs</th>\n",
       "      <th>Type</th>\n",
       "      <th>PriceInDollar</th>\n",
       "      <th>Content Rating</th>\n",
       "      <th>Genres</th>\n",
       "      <th>...</th>\n",
       "      <th>Update_Year</th>\n",
       "      <th>Revenue</th>\n",
       "      <th>Rating_group</th>\n",
       "      <th>Total_Review</th>\n",
       "      <th>Avg_Polarity</th>\n",
       "      <th>Avg_Subjectivity</th>\n",
       "      <th>Avg_Sentiment_Score</th>\n",
       "      <th>Negative_Review</th>\n",
       "      <th>Neutral_Review</th>\n",
       "      <th>Positive_Review</th>\n",
       "    </tr>\n",
       "  </thead>\n",
       "  <tbody>\n",
       "    <tr>\n",
       "      <th>0</th>\n",
       "      <td>\"i DT\" Fútbol. Todos Somos Técnicos.</td>\n",
       "      <td>SPORTS</td>\n",
       "      <td>4.5</td>\n",
       "      <td>27.0</td>\n",
       "      <td>3.6</td>\n",
       "      <td>500</td>\n",
       "      <td>Free</td>\n",
       "      <td>0.0</td>\n",
       "      <td>Everyone</td>\n",
       "      <td>Sports</td>\n",
       "      <td>...</td>\n",
       "      <td>2017</td>\n",
       "      <td>0.0</td>\n",
       "      <td>Top Rated Appa</td>\n",
       "      <td>NaN</td>\n",
       "      <td>NaN</td>\n",
       "      <td>NaN</td>\n",
       "      <td>NaN</td>\n",
       "      <td>NaN</td>\n",
       "      <td>NaN</td>\n",
       "      <td>NaN</td>\n",
       "    </tr>\n",
       "    <tr>\n",
       "      <th>1</th>\n",
       "      <td>+Download 4 Instagram Twitter</td>\n",
       "      <td>SOCIAL</td>\n",
       "      <td>4.5</td>\n",
       "      <td>40467.0</td>\n",
       "      <td>22.0</td>\n",
       "      <td>1000000</td>\n",
       "      <td>Free</td>\n",
       "      <td>0.0</td>\n",
       "      <td>Everyone</td>\n",
       "      <td>Social</td>\n",
       "      <td>...</td>\n",
       "      <td>2018</td>\n",
       "      <td>0.0</td>\n",
       "      <td>Top Rated Appa</td>\n",
       "      <td>NaN</td>\n",
       "      <td>NaN</td>\n",
       "      <td>NaN</td>\n",
       "      <td>NaN</td>\n",
       "      <td>NaN</td>\n",
       "      <td>NaN</td>\n",
       "      <td>NaN</td>\n",
       "    </tr>\n",
       "    <tr>\n",
       "      <th>2</th>\n",
       "      <td>- Free Comics - Comic Apps</td>\n",
       "      <td>COMICS</td>\n",
       "      <td>3.5</td>\n",
       "      <td>115.0</td>\n",
       "      <td>9.1</td>\n",
       "      <td>10000</td>\n",
       "      <td>Free</td>\n",
       "      <td>0.0</td>\n",
       "      <td>Mature 17+</td>\n",
       "      <td>Comics</td>\n",
       "      <td>...</td>\n",
       "      <td>2018</td>\n",
       "      <td>0.0</td>\n",
       "      <td>Above Average Rated Apps</td>\n",
       "      <td>NaN</td>\n",
       "      <td>NaN</td>\n",
       "      <td>NaN</td>\n",
       "      <td>NaN</td>\n",
       "      <td>NaN</td>\n",
       "      <td>NaN</td>\n",
       "      <td>NaN</td>\n",
       "    </tr>\n",
       "  </tbody>\n",
       "</table>\n",
       "<p>3 rows × 21 columns</p>\n",
       "</div>"
      ],
      "text/plain": [
       "                                    App Category  Rating  Reviews  SizeInMB  \\\n",
       "0  \"i DT\" Fútbol. Todos Somos Técnicos.   SPORTS     4.5     27.0       3.6   \n",
       "1         +Download 4 Instagram Twitter   SOCIAL     4.5  40467.0      22.0   \n",
       "2            - Free Comics - Comic Apps   COMICS     3.5    115.0       9.1   \n",
       "\n",
       "   Installs  Type  PriceInDollar Content Rating  Genres  ... Update_Year  \\\n",
       "0       500  Free            0.0       Everyone  Sports  ...        2017   \n",
       "1   1000000  Free            0.0       Everyone  Social  ...        2018   \n",
       "2     10000  Free            0.0     Mature 17+  Comics  ...        2018   \n",
       "\n",
       "   Revenue              Rating_group Total_Review  Avg_Polarity  \\\n",
       "0      0.0            Top Rated Appa          NaN           NaN   \n",
       "1      0.0            Top Rated Appa          NaN           NaN   \n",
       "2      0.0  Above Average Rated Apps          NaN           NaN   \n",
       "\n",
       "   Avg_Subjectivity  Avg_Sentiment_Score  Negative_Review  Neutral_Review  \\\n",
       "0               NaN                  NaN              NaN             NaN   \n",
       "1               NaN                  NaN              NaN             NaN   \n",
       "2               NaN                  NaN              NaN             NaN   \n",
       "\n",
       "   Positive_Review  \n",
       "0              NaN  \n",
       "1              NaN  \n",
       "2              NaN  \n",
       "\n",
       "[3 rows x 21 columns]"
      ]
     },
     "execution_count": 15,
     "metadata": {},
     "output_type": "execute_result"
    }
   ],
   "source": [
    "merge_df.head(3)"
   ]
  },
  {
   "cell_type": "code",
   "execution_count": 16,
   "id": "d716376c-cef9-4a37-b6b1-3bd0bef69ec6",
   "metadata": {},
   "outputs": [],
   "source": [
    "# Filter: Apps with more than 1000 total user reviews and valid ratings\n",
    "filtered_df = merge_df[\n",
    "    (merge_df['Reviews'] > 1000) &\n",
    "    (merge_df['Rating'].notna()) &\n",
    "    (merge_df['Category'].notna())\n",
    "]"
   ]
  },
  {
   "cell_type": "code",
   "execution_count": 17,
   "id": "657724dc-bf07-4ff8-b29c-5238430a4163",
   "metadata": {},
   "outputs": [],
   "source": [
    "Top_5Category = filtered_df['Category'].value_counts().nlargest(5).index\n",
    "filtered_df = filtered_df[filtered_df['Category'].isin(Top_5Category)]"
   ]
  },
  {
   "cell_type": "code",
   "execution_count": 18,
   "id": "962bfc7d-0e60-4609-b4a5-62f0969433f2",
   "metadata": {},
   "outputs": [],
   "source": [
    "def get_rating_group(rating):\n",
    "    if rating <= 2.0:\n",
    "       return \"1-2 Stars\"\n",
    "    elif rating <= 4.0:\n",
    "        return \"3-4 Stars\"\n",
    "    else:\n",
    "       return \"4-5 Stars\"\n",
    "filtered_df['Rating Group'] = filtered_df['Rating'].apply(get_rating_group)  "
   ]
  },
  {
   "cell_type": "code",
   "execution_count": 19,
   "id": "ded4f959-a62d-49f0-a2ec-a3bed53bad68",
   "metadata": {},
   "outputs": [],
   "source": [
    "# Group by Category and Rating Group, sum review sentiments\n",
    "grouped = filtered_df.groupby(['Category', 'Rating Group'])[['Negative_Review','Positive_Review','Neutral_Review']].sum().reset_index()"
   ]
  },
  {
   "cell_type": "code",
   "execution_count": 20,
   "id": "38dd97da-f58d-472a-8469-11acb7dfb252",
   "metadata": {},
   "outputs": [],
   "source": [
    "# Melt for stacked bar chart\n",
    "melted = pd.melt(grouped, id_vars = ['Category', 'Rating Group'], \n",
    "                 value_vars=['Positive_Review', 'Negative_Review', 'Neutral_Review'],\n",
    "                 var_name = 'Sentiment', value_name = 'Review Count')"
   ]
  },
  {
   "cell_type": "code",
   "execution_count": 21,
   "id": "f5874fd4-b35b-47e7-943e-8e9e924264cd",
   "metadata": {},
   "outputs": [],
   "source": [
    "# Combine Category and rating group for x-axis\n",
    "melted['Category_Rating'] = melted['Category'] + ' - ' + melted['Rating Group']"
   ]
  },
  {
   "cell_type": "code",
   "execution_count": 22,
   "id": "b846ced2-dd31-40a8-addf-ed192dfc1f75",
   "metadata": {},
   "outputs": [
    {
     "data": {
      "application/vnd.plotly.v1+json": {
       "config": {
        "plotlyServerURL": "https://plot.ly"
       },
       "data": [
        {
         "hovertemplate": "Sentiment=Positive_Review<br>Category and Rating Group=%{x}<br>Review Count=%{y}<extra></extra>",
         "legendgroup": "Positive_Review",
         "marker": {
          "color": "#636efa",
          "pattern": {
           "shape": ""
          }
         },
         "name": "Positive_Review",
         "orientation": "v",
         "showlegend": true,
         "textposition": "auto",
         "type": "bar",
         "x": [
          "FAMILY - 1-2 Stars",
          "FAMILY - 3-4 Stars",
          "FAMILY - 4-5 Stars",
          "GAME - 3-4 Stars",
          "GAME - 4-5 Stars",
          "PHOTOGRAPHY - 3-4 Stars",
          "PHOTOGRAPHY - 4-5 Stars",
          "PRODUCTIVITY - 3-4 Stars",
          "PRODUCTIVITY - 4-5 Stars",
          "TOOLS - 1-2 Stars",
          "TOOLS - 3-4 Stars",
          "TOOLS - 4-5 Stars"
         ],
         "xaxis": "x",
         "y": {
          "bdata": "AAAAAAAAAAAAAAAAAMBeQAAAAAAAGJFAAAAAAAAAX0AAAAAAAFatQAAAAAAAAFJAAAAAAAAohkAAAAAAAABEQAAAAAAAQI1AAAAAAAAAAAAAAAAAACBhQAAAAAAAGIdA",
          "dtype": "f8"
         },
         "yaxis": "y"
        },
        {
         "hovertemplate": "Sentiment=Negative_Review<br>Category and Rating Group=%{x}<br>Review Count=%{y}<extra></extra>",
         "legendgroup": "Negative_Review",
         "marker": {
          "color": "#EF553B",
          "pattern": {
           "shape": ""
          }
         },
         "name": "Negative_Review",
         "orientation": "v",
         "showlegend": true,
         "textposition": "auto",
         "type": "bar",
         "x": [
          "FAMILY - 1-2 Stars",
          "FAMILY - 3-4 Stars",
          "FAMILY - 4-5 Stars",
          "GAME - 3-4 Stars",
          "GAME - 4-5 Stars",
          "PHOTOGRAPHY - 3-4 Stars",
          "PHOTOGRAPHY - 4-5 Stars",
          "PRODUCTIVITY - 3-4 Stars",
          "PRODUCTIVITY - 4-5 Stars",
          "TOOLS - 1-2 Stars",
          "TOOLS - 3-4 Stars",
          "TOOLS - 4-5 Stars"
         ],
         "xaxis": "x",
         "y": {
          "bdata": "AAAAAAAAAAAAAAAAAIBPQAAAAAAAkH5AAAAAAACAU0AAAAAAABCiQAAAAAAAAERAAAAAAABgaEAAAAAAAAA1QAAAAAAAoG5AAAAAAAAAAAAAAAAAAABNQAAAAAAAwGhA",
          "dtype": "f8"
         },
         "yaxis": "y"
        },
        {
         "hovertemplate": "Sentiment=Neutral_Review<br>Category and Rating Group=%{x}<br>Review Count=%{y}<extra></extra>",
         "legendgroup": "Neutral_Review",
         "marker": {
          "color": "#00cc96",
          "pattern": {
           "shape": ""
          }
         },
         "name": "Neutral_Review",
         "orientation": "v",
         "showlegend": true,
         "textposition": "auto",
         "type": "bar",
         "x": [
          "FAMILY - 1-2 Stars",
          "FAMILY - 3-4 Stars",
          "FAMILY - 4-5 Stars",
          "GAME - 3-4 Stars",
          "GAME - 4-5 Stars",
          "PHOTOGRAPHY - 3-4 Stars",
          "PHOTOGRAPHY - 4-5 Stars",
          "PRODUCTIVITY - 3-4 Stars",
          "PRODUCTIVITY - 4-5 Stars",
          "TOOLS - 1-2 Stars",
          "TOOLS - 3-4 Stars",
          "TOOLS - 4-5 Stars"
         ],
         "xaxis": "x",
         "y": {
          "bdata": "AAAAAAAAAAAAAAAAAABCQAAAAAAAoGRAAAAAAAAALEAAAAAAAHBzQAAAAAAAAC5AAAAAAAAgYkAAAAAAAAAsQAAAAAAAAGdAAAAAAAAAAAAAAAAAAABTQAAAAAAAYG5A",
          "dtype": "f8"
         },
         "yaxis": "y"
        }
       ],
       "layout": {
        "barmode": "stack",
        "height": 600,
        "legend": {
         "title": {
          "text": "Sentiment"
         },
         "tracegroupgap": 0
        },
        "template": {
         "data": {
          "bar": [
           {
            "error_x": {
             "color": "#2a3f5f"
            },
            "error_y": {
             "color": "#2a3f5f"
            },
            "marker": {
             "line": {
              "color": "#E5ECF6",
              "width": 0.5
             },
             "pattern": {
              "fillmode": "overlay",
              "size": 10,
              "solidity": 0.2
             }
            },
            "type": "bar"
           }
          ],
          "barpolar": [
           {
            "marker": {
             "line": {
              "color": "#E5ECF6",
              "width": 0.5
             },
             "pattern": {
              "fillmode": "overlay",
              "size": 10,
              "solidity": 0.2
             }
            },
            "type": "barpolar"
           }
          ],
          "carpet": [
           {
            "aaxis": {
             "endlinecolor": "#2a3f5f",
             "gridcolor": "white",
             "linecolor": "white",
             "minorgridcolor": "white",
             "startlinecolor": "#2a3f5f"
            },
            "baxis": {
             "endlinecolor": "#2a3f5f",
             "gridcolor": "white",
             "linecolor": "white",
             "minorgridcolor": "white",
             "startlinecolor": "#2a3f5f"
            },
            "type": "carpet"
           }
          ],
          "choropleth": [
           {
            "colorbar": {
             "outlinewidth": 0,
             "ticks": ""
            },
            "type": "choropleth"
           }
          ],
          "contour": [
           {
            "colorbar": {
             "outlinewidth": 0,
             "ticks": ""
            },
            "colorscale": [
             [
              0,
              "#0d0887"
             ],
             [
              0.1111111111111111,
              "#46039f"
             ],
             [
              0.2222222222222222,
              "#7201a8"
             ],
             [
              0.3333333333333333,
              "#9c179e"
             ],
             [
              0.4444444444444444,
              "#bd3786"
             ],
             [
              0.5555555555555556,
              "#d8576b"
             ],
             [
              0.6666666666666666,
              "#ed7953"
             ],
             [
              0.7777777777777778,
              "#fb9f3a"
             ],
             [
              0.8888888888888888,
              "#fdca26"
             ],
             [
              1,
              "#f0f921"
             ]
            ],
            "type": "contour"
           }
          ],
          "contourcarpet": [
           {
            "colorbar": {
             "outlinewidth": 0,
             "ticks": ""
            },
            "type": "contourcarpet"
           }
          ],
          "heatmap": [
           {
            "colorbar": {
             "outlinewidth": 0,
             "ticks": ""
            },
            "colorscale": [
             [
              0,
              "#0d0887"
             ],
             [
              0.1111111111111111,
              "#46039f"
             ],
             [
              0.2222222222222222,
              "#7201a8"
             ],
             [
              0.3333333333333333,
              "#9c179e"
             ],
             [
              0.4444444444444444,
              "#bd3786"
             ],
             [
              0.5555555555555556,
              "#d8576b"
             ],
             [
              0.6666666666666666,
              "#ed7953"
             ],
             [
              0.7777777777777778,
              "#fb9f3a"
             ],
             [
              0.8888888888888888,
              "#fdca26"
             ],
             [
              1,
              "#f0f921"
             ]
            ],
            "type": "heatmap"
           }
          ],
          "histogram": [
           {
            "marker": {
             "pattern": {
              "fillmode": "overlay",
              "size": 10,
              "solidity": 0.2
             }
            },
            "type": "histogram"
           }
          ],
          "histogram2d": [
           {
            "colorbar": {
             "outlinewidth": 0,
             "ticks": ""
            },
            "colorscale": [
             [
              0,
              "#0d0887"
             ],
             [
              0.1111111111111111,
              "#46039f"
             ],
             [
              0.2222222222222222,
              "#7201a8"
             ],
             [
              0.3333333333333333,
              "#9c179e"
             ],
             [
              0.4444444444444444,
              "#bd3786"
             ],
             [
              0.5555555555555556,
              "#d8576b"
             ],
             [
              0.6666666666666666,
              "#ed7953"
             ],
             [
              0.7777777777777778,
              "#fb9f3a"
             ],
             [
              0.8888888888888888,
              "#fdca26"
             ],
             [
              1,
              "#f0f921"
             ]
            ],
            "type": "histogram2d"
           }
          ],
          "histogram2dcontour": [
           {
            "colorbar": {
             "outlinewidth": 0,
             "ticks": ""
            },
            "colorscale": [
             [
              0,
              "#0d0887"
             ],
             [
              0.1111111111111111,
              "#46039f"
             ],
             [
              0.2222222222222222,
              "#7201a8"
             ],
             [
              0.3333333333333333,
              "#9c179e"
             ],
             [
              0.4444444444444444,
              "#bd3786"
             ],
             [
              0.5555555555555556,
              "#d8576b"
             ],
             [
              0.6666666666666666,
              "#ed7953"
             ],
             [
              0.7777777777777778,
              "#fb9f3a"
             ],
             [
              0.8888888888888888,
              "#fdca26"
             ],
             [
              1,
              "#f0f921"
             ]
            ],
            "type": "histogram2dcontour"
           }
          ],
          "mesh3d": [
           {
            "colorbar": {
             "outlinewidth": 0,
             "ticks": ""
            },
            "type": "mesh3d"
           }
          ],
          "parcoords": [
           {
            "line": {
             "colorbar": {
              "outlinewidth": 0,
              "ticks": ""
             }
            },
            "type": "parcoords"
           }
          ],
          "pie": [
           {
            "automargin": true,
            "type": "pie"
           }
          ],
          "scatter": [
           {
            "fillpattern": {
             "fillmode": "overlay",
             "size": 10,
             "solidity": 0.2
            },
            "type": "scatter"
           }
          ],
          "scatter3d": [
           {
            "line": {
             "colorbar": {
              "outlinewidth": 0,
              "ticks": ""
             }
            },
            "marker": {
             "colorbar": {
              "outlinewidth": 0,
              "ticks": ""
             }
            },
            "type": "scatter3d"
           }
          ],
          "scattercarpet": [
           {
            "marker": {
             "colorbar": {
              "outlinewidth": 0,
              "ticks": ""
             }
            },
            "type": "scattercarpet"
           }
          ],
          "scattergeo": [
           {
            "marker": {
             "colorbar": {
              "outlinewidth": 0,
              "ticks": ""
             }
            },
            "type": "scattergeo"
           }
          ],
          "scattergl": [
           {
            "marker": {
             "colorbar": {
              "outlinewidth": 0,
              "ticks": ""
             }
            },
            "type": "scattergl"
           }
          ],
          "scattermap": [
           {
            "marker": {
             "colorbar": {
              "outlinewidth": 0,
              "ticks": ""
             }
            },
            "type": "scattermap"
           }
          ],
          "scattermapbox": [
           {
            "marker": {
             "colorbar": {
              "outlinewidth": 0,
              "ticks": ""
             }
            },
            "type": "scattermapbox"
           }
          ],
          "scatterpolar": [
           {
            "marker": {
             "colorbar": {
              "outlinewidth": 0,
              "ticks": ""
             }
            },
            "type": "scatterpolar"
           }
          ],
          "scatterpolargl": [
           {
            "marker": {
             "colorbar": {
              "outlinewidth": 0,
              "ticks": ""
             }
            },
            "type": "scatterpolargl"
           }
          ],
          "scatterternary": [
           {
            "marker": {
             "colorbar": {
              "outlinewidth": 0,
              "ticks": ""
             }
            },
            "type": "scatterternary"
           }
          ],
          "surface": [
           {
            "colorbar": {
             "outlinewidth": 0,
             "ticks": ""
            },
            "colorscale": [
             [
              0,
              "#0d0887"
             ],
             [
              0.1111111111111111,
              "#46039f"
             ],
             [
              0.2222222222222222,
              "#7201a8"
             ],
             [
              0.3333333333333333,
              "#9c179e"
             ],
             [
              0.4444444444444444,
              "#bd3786"
             ],
             [
              0.5555555555555556,
              "#d8576b"
             ],
             [
              0.6666666666666666,
              "#ed7953"
             ],
             [
              0.7777777777777778,
              "#fb9f3a"
             ],
             [
              0.8888888888888888,
              "#fdca26"
             ],
             [
              1,
              "#f0f921"
             ]
            ],
            "type": "surface"
           }
          ],
          "table": [
           {
            "cells": {
             "fill": {
              "color": "#EBF0F8"
             },
             "line": {
              "color": "white"
             }
            },
            "header": {
             "fill": {
              "color": "#C8D4E3"
             },
             "line": {
              "color": "white"
             }
            },
            "type": "table"
           }
          ]
         },
         "layout": {
          "annotationdefaults": {
           "arrowcolor": "#2a3f5f",
           "arrowhead": 0,
           "arrowwidth": 1
          },
          "autotypenumbers": "strict",
          "coloraxis": {
           "colorbar": {
            "outlinewidth": 0,
            "ticks": ""
           }
          },
          "colorscale": {
           "diverging": [
            [
             0,
             "#8e0152"
            ],
            [
             0.1,
             "#c51b7d"
            ],
            [
             0.2,
             "#de77ae"
            ],
            [
             0.3,
             "#f1b6da"
            ],
            [
             0.4,
             "#fde0ef"
            ],
            [
             0.5,
             "#f7f7f7"
            ],
            [
             0.6,
             "#e6f5d0"
            ],
            [
             0.7,
             "#b8e186"
            ],
            [
             0.8,
             "#7fbc41"
            ],
            [
             0.9,
             "#4d9221"
            ],
            [
             1,
             "#276419"
            ]
           ],
           "sequential": [
            [
             0,
             "#0d0887"
            ],
            [
             0.1111111111111111,
             "#46039f"
            ],
            [
             0.2222222222222222,
             "#7201a8"
            ],
            [
             0.3333333333333333,
             "#9c179e"
            ],
            [
             0.4444444444444444,
             "#bd3786"
            ],
            [
             0.5555555555555556,
             "#d8576b"
            ],
            [
             0.6666666666666666,
             "#ed7953"
            ],
            [
             0.7777777777777778,
             "#fb9f3a"
            ],
            [
             0.8888888888888888,
             "#fdca26"
            ],
            [
             1,
             "#f0f921"
            ]
           ],
           "sequentialminus": [
            [
             0,
             "#0d0887"
            ],
            [
             0.1111111111111111,
             "#46039f"
            ],
            [
             0.2222222222222222,
             "#7201a8"
            ],
            [
             0.3333333333333333,
             "#9c179e"
            ],
            [
             0.4444444444444444,
             "#bd3786"
            ],
            [
             0.5555555555555556,
             "#d8576b"
            ],
            [
             0.6666666666666666,
             "#ed7953"
            ],
            [
             0.7777777777777778,
             "#fb9f3a"
            ],
            [
             0.8888888888888888,
             "#fdca26"
            ],
            [
             1,
             "#f0f921"
            ]
           ]
          },
          "colorway": [
           "#636efa",
           "#EF553B",
           "#00cc96",
           "#ab63fa",
           "#FFA15A",
           "#19d3f3",
           "#FF6692",
           "#B6E880",
           "#FF97FF",
           "#FECB52"
          ],
          "font": {
           "color": "#2a3f5f"
          },
          "geo": {
           "bgcolor": "white",
           "lakecolor": "white",
           "landcolor": "#E5ECF6",
           "showlakes": true,
           "showland": true,
           "subunitcolor": "white"
          },
          "hoverlabel": {
           "align": "left"
          },
          "hovermode": "closest",
          "mapbox": {
           "style": "light"
          },
          "paper_bgcolor": "white",
          "plot_bgcolor": "#E5ECF6",
          "polar": {
           "angularaxis": {
            "gridcolor": "white",
            "linecolor": "white",
            "ticks": ""
           },
           "bgcolor": "#E5ECF6",
           "radialaxis": {
            "gridcolor": "white",
            "linecolor": "white",
            "ticks": ""
           }
          },
          "scene": {
           "xaxis": {
            "backgroundcolor": "#E5ECF6",
            "gridcolor": "white",
            "gridwidth": 2,
            "linecolor": "white",
            "showbackground": true,
            "ticks": "",
            "zerolinecolor": "white"
           },
           "yaxis": {
            "backgroundcolor": "#E5ECF6",
            "gridcolor": "white",
            "gridwidth": 2,
            "linecolor": "white",
            "showbackground": true,
            "ticks": "",
            "zerolinecolor": "white"
           },
           "zaxis": {
            "backgroundcolor": "#E5ECF6",
            "gridcolor": "white",
            "gridwidth": 2,
            "linecolor": "white",
            "showbackground": true,
            "ticks": "",
            "zerolinecolor": "white"
           }
          },
          "shapedefaults": {
           "line": {
            "color": "#2a3f5f"
           }
          },
          "ternary": {
           "aaxis": {
            "gridcolor": "white",
            "linecolor": "white",
            "ticks": ""
           },
           "baxis": {
            "gridcolor": "white",
            "linecolor": "white",
            "ticks": ""
           },
           "bgcolor": "#E5ECF6",
           "caxis": {
            "gridcolor": "white",
            "linecolor": "white",
            "ticks": ""
           }
          },
          "title": {
           "x": 0.05
          },
          "xaxis": {
           "automargin": true,
           "gridcolor": "white",
           "linecolor": "white",
           "ticks": "",
           "title": {
            "standoff": 15
           },
           "zerolinecolor": "white",
           "zerolinewidth": 2
          },
          "yaxis": {
           "automargin": true,
           "gridcolor": "white",
           "linecolor": "white",
           "ticks": "",
           "title": {
            "standoff": 15
           },
           "zerolinecolor": "white",
           "zerolinewidth": 2
          }
         }
        },
        "title": {
         "text": "Sentiment Distribution by Rating Group (Top 5 Categories, >1000 Reviews)"
        },
        "xaxis": {
         "anchor": "y",
         "domain": [
          0,
          1
         ],
         "tickangle": -45,
         "title": {
          "text": "Category and Rating Group"
         }
        },
        "yaxis": {
         "anchor": "x",
         "domain": [
          0,
          1
         ],
         "title": {
          "text": "Review Count"
         }
        }
       }
      },
      "image/png": "[encoded data removed]"
     },
     "metadata": {},
     "output_type": "display_data"
    }
   ],
   "source": [
    "fig = px.bar(\n",
    "    melted,\n",
    "    x = 'Category_Rating',\n",
    "    y = 'Review Count',\n",
    "    color=\"Sentiment\",\n",
    "    title=\"Sentiment Distribution by Rating Group (Top 5 Categories, >1000 Reviews)\",\n",
    "    labels = {\"Category_Rating\": \"Category and Rating Group\"},\n",
    "    barmode='stack',\n",
    "    height=600\n",
    ")\n",
    "fig.update_layout(xaxis_tickangle=-45)\n",
    "fig.show()"
   ]
  },
  {
   "cell_type": "code",
   "execution_count": null,
   "id": "5887282a-f9fa-480c-8ae9-23d79af32045",
   "metadata": {},
   "outputs": [],
   "source": [
    "Result of task 1:\n",
    "Positive sentiment dominates in higher-rated apps (4–5 stars)\n",
    "Neutral and negative sentiments are more frequent in apps rated 1–2 stars\n",
    "Categories like games, family, and productivity featured among the top 5\n",
    "Visualization helps identify user satisfaction trends by rating and category"
   ]
  },
  {
   "cell_type": "markdown",
   "id": "817a65b7-7e24-40c8-b485-9eed50288e45",
   "metadata": {},
   "source": [
    "# Task 2: Grouped Bar Chart of Average Rating vs Total Reviews (Top 10 Categories by Installs)"
   ]
  },
  {
   "cell_type": "code",
   "execution_count": null,
   "id": "fbb7a282-4372-4791-bb05-87ca0e09b50c",
   "metadata": {},
   "outputs": [],
   "source": [
    "# Task : \n",
    "Use a grouped bar chart to compare the average rating and total review count for the top 10 app categories by number of installs. \n",
    "Filter out any categories where the average rating is below 4.0 and size below 10 M and last update should be Jan month \n",
    "this graph should work only between 3PM IST to 5 PM IST apart from that time we should not show this graph in dashboard itself."
   ]
  },
  {
   "cell_type": "code",
   "execution_count": 44,
   "id": "40ba45af-0347-4dcf-992f-685e30bb3729",
   "metadata": {},
   "outputs": [],
   "source": [
    "app_df = pd.read_csv(\"D:/Google Play Store Intern/Clean Play Store Data.csv\")"
   ]
  },
  {
   "cell_type": "code",
   "execution_count": 45,
   "id": "33bcb912-3189-442a-a8b6-271b0b0767b2",
   "metadata": {},
   "outputs": [],
   "source": [
    "app_df = app_df.dropna(subset = ['Category', 'Rating', 'Reviews', 'SizeInMB','Installs' ,'Last Updated'])"
   ]
  },
  {
   "cell_type": "code",
   "execution_count": 46,
   "id": "d8492cfd-ba26-4b4d-bebd-be4c1729c4e6",
   "metadata": {},
   "outputs": [],
   "source": [
    "# Convert Last Updated to datetime\n",
    "app_df['Last Updated'] = pd.to_datetime(app_df['Last Updated'], errors = 'coerce')\n",
    "app_df['Updated_Month'] = app_df['Last Updated'].dt.month"
   ]
  },
  {
   "cell_type": "code",
   "execution_count": 48,
   "id": "04a860e9-0394-401b-9877-aaca67746bb7",
   "metadata": {},
   "outputs": [],
   "source": [
    "filtered = app_df[\n",
    "    (app_df['Rating'] >= 4.0) &\n",
    "    (app_df['SizeInMB'] >= 10) &\n",
    "    (app_df['Updated_Month'] == 1) \n",
    "]"
   ]
  },
  {
   "cell_type": "code",
   "execution_count": 49,
   "id": "62d7f8ef-26ca-4393-b49b-25dc216ac3ae",
   "metadata": {},
   "outputs": [
    {
     "data": {
      "text/html": [
       "<div>\n",
       "<style scoped>\n",
       "    .dataframe tbody tr th:only-of-type {\n",
       "        vertical-align: middle;\n",
       "    }\n",
       "\n",
       "    .dataframe tbody tr th {\n",
       "        vertical-align: top;\n",
       "    }\n",
       "\n",
       "    .dataframe thead th {\n",
       "        text-align: right;\n",
       "    }\n",
       "</style>\n",
       "<table border=\"1\" class=\"dataframe\">\n",
       "  <thead>\n",
       "    <tr style=\"text-align: right;\">\n",
       "      <th></th>\n",
       "      <th>App</th>\n",
       "      <th>Category</th>\n",
       "      <th>Rating</th>\n",
       "      <th>Reviews</th>\n",
       "      <th>SizeInMB</th>\n",
       "      <th>Installs</th>\n",
       "      <th>Type</th>\n",
       "      <th>PriceInDollar</th>\n",
       "      <th>Content Rating</th>\n",
       "      <th>Genres</th>\n",
       "      <th>Last Updated</th>\n",
       "      <th>Update_Year</th>\n",
       "      <th>Revenue</th>\n",
       "      <th>Log_Installs</th>\n",
       "      <th>Log_Reviews</th>\n",
       "      <th>Rating_group</th>\n",
       "      <th>Updated_Month</th>\n",
       "    </tr>\n",
       "  </thead>\n",
       "  <tbody>\n",
       "    <tr>\n",
       "      <th>17</th>\n",
       "      <td>12 Step Meditations &amp; Sober Prayers AA NA AL-ANON</td>\n",
       "      <td>LIFESTYLE</td>\n",
       "      <td>4.7</td>\n",
       "      <td>759.0</td>\n",
       "      <td>15.0</td>\n",
       "      <td>50000</td>\n",
       "      <td>Free</td>\n",
       "      <td>0.0</td>\n",
       "      <td>Everyone 10+</td>\n",
       "      <td>Lifestyle</td>\n",
       "      <td>2018-01-22</td>\n",
       "      <td>2018</td>\n",
       "      <td>0.0</td>\n",
       "      <td>10.819778</td>\n",
       "      <td>6.632002</td>\n",
       "      <td>Top Rated Appa</td>\n",
       "      <td>1</td>\n",
       "    </tr>\n",
       "    <tr>\n",
       "      <th>59</th>\n",
       "      <td>3D Bowling</td>\n",
       "      <td>SPORTS</td>\n",
       "      <td>4.1</td>\n",
       "      <td>1076243.0</td>\n",
       "      <td>13.0</td>\n",
       "      <td>100000000</td>\n",
       "      <td>Free</td>\n",
       "      <td>0.0</td>\n",
       "      <td>Everyone</td>\n",
       "      <td>Sports</td>\n",
       "      <td>2018-01-18</td>\n",
       "      <td>2018</td>\n",
       "      <td>0.0</td>\n",
       "      <td>18.420681</td>\n",
       "      <td>13.888987</td>\n",
       "      <td>Top Rated Appa</td>\n",
       "      <td>1</td>\n",
       "    </tr>\n",
       "    <tr>\n",
       "      <th>119</th>\n",
       "      <td>A-J Media Vault</td>\n",
       "      <td>BOOKS_AND_REFERENCE</td>\n",
       "      <td>4.0</td>\n",
       "      <td>1.0</td>\n",
       "      <td>24.0</td>\n",
       "      <td>50</td>\n",
       "      <td>Free</td>\n",
       "      <td>0.0</td>\n",
       "      <td>Everyone</td>\n",
       "      <td>Books &amp; Reference</td>\n",
       "      <td>2017-01-04</td>\n",
       "      <td>2017</td>\n",
       "      <td>0.0</td>\n",
       "      <td>3.912023</td>\n",
       "      <td>0.000000</td>\n",
       "      <td>Top Rated Appa</td>\n",
       "      <td>1</td>\n",
       "    </tr>\n",
       "    <tr>\n",
       "      <th>189</th>\n",
       "      <td>AE Angry Chef</td>\n",
       "      <td>GAME</td>\n",
       "      <td>4.1</td>\n",
       "      <td>533.0</td>\n",
       "      <td>39.0</td>\n",
       "      <td>10000</td>\n",
       "      <td>Free</td>\n",
       "      <td>0.0</td>\n",
       "      <td>Everyone 10+</td>\n",
       "      <td>Action</td>\n",
       "      <td>2014-01-24</td>\n",
       "      <td>2014</td>\n",
       "      <td>0.0</td>\n",
       "      <td>9.210340</td>\n",
       "      <td>6.278521</td>\n",
       "      <td>Top Rated Appa</td>\n",
       "      <td>1</td>\n",
       "    </tr>\n",
       "    <tr>\n",
       "      <th>211</th>\n",
       "      <td>AE Solitaire</td>\n",
       "      <td>GAME</td>\n",
       "      <td>4.3</td>\n",
       "      <td>1776.0</td>\n",
       "      <td>26.0</td>\n",
       "      <td>50000</td>\n",
       "      <td>Free</td>\n",
       "      <td>0.0</td>\n",
       "      <td>Everyone</td>\n",
       "      <td>Card</td>\n",
       "      <td>2018-01-04</td>\n",
       "      <td>2018</td>\n",
       "      <td>0.0</td>\n",
       "      <td>10.819778</td>\n",
       "      <td>7.482119</td>\n",
       "      <td>Top Rated Appa</td>\n",
       "      <td>1</td>\n",
       "    </tr>\n",
       "  </tbody>\n",
       "</table>\n",
       "</div>"
      ],
      "text/plain": [
       "                                                   App             Category  \\\n",
       "17   12 Step Meditations & Sober Prayers AA NA AL-ANON            LIFESTYLE   \n",
       "59                                          3D Bowling               SPORTS   \n",
       "119                                    A-J Media Vault  BOOKS_AND_REFERENCE   \n",
       "189                                      AE Angry Chef                 GAME   \n",
       "211                                       AE Solitaire                 GAME   \n",
       "\n",
       "     Rating    Reviews  SizeInMB   Installs  Type  PriceInDollar  \\\n",
       "17      4.7      759.0      15.0      50000  Free            0.0   \n",
       "59      4.1  1076243.0      13.0  100000000  Free            0.0   \n",
       "119     4.0        1.0      24.0         50  Free            0.0   \n",
       "189     4.1      533.0      39.0      10000  Free            0.0   \n",
       "211     4.3     1776.0      26.0      50000  Free            0.0   \n",
       "\n",
       "    Content Rating             Genres Last Updated  Update_Year  Revenue  \\\n",
       "17    Everyone 10+          Lifestyle   2018-01-22         2018      0.0   \n",
       "59        Everyone             Sports   2018-01-18         2018      0.0   \n",
       "119       Everyone  Books & Reference   2017-01-04         2017      0.0   \n",
       "189   Everyone 10+             Action   2014-01-24         2014      0.0   \n",
       "211       Everyone               Card   2018-01-04         2018      0.0   \n",
       "\n",
       "     Log_Installs  Log_Reviews    Rating_group  Updated_Month  \n",
       "17      10.819778     6.632002  Top Rated Appa              1  \n",
       "59      18.420681    13.888987  Top Rated Appa              1  \n",
       "119      3.912023     0.000000  Top Rated Appa              1  \n",
       "189      9.210340     6.278521  Top Rated Appa              1  \n",
       "211     10.819778     7.482119  Top Rated Appa              1  "
      ]
     },
     "execution_count": 49,
     "metadata": {},
     "output_type": "execute_result"
    }
   ],
   "source": [
    "filtered.head()"
   ]
  },
  {
   "cell_type": "code",
   "execution_count": 50,
   "id": "958f86c7-4188-4138-9815-48e325f7f8b9",
   "metadata": {},
   "outputs": [],
   "source": [
    "grouped = filtered.groupby('Category').agg({\n",
    "    'Installs': 'sum',\n",
    "    'Rating': 'mean',\n",
    "    'Reviews': 'sum'\n",
    "}).reset_index()"
   ]
  },
  {
   "cell_type": "code",
   "execution_count": 51,
   "id": "1a9e1c92-e52e-4531-8772-be671ab59c34",
   "metadata": {},
   "outputs": [],
   "source": [
    "# Top 10 categories by installs\n",
    "top_categories = grouped.nlargest(10, 'Installs')"
   ]
  },
  {
   "cell_type": "code",
   "execution_count": 52,
   "id": "5dc51164-9ca4-4bc9-9a86-82647c16f8e3",
   "metadata": {},
   "outputs": [],
   "source": [
    "# Time condition: 3PM to 5PM IST\n",
    "now_utc = datetime.now(timezone.utc)\n",
    "now_ist = now_utc + timedelta(hours=5, minutes=30)\n",
    "hour_ist = now_ist.hour\n"
   ]
  },
  {
   "cell_type": "code",
   "execution_count": 62,
   "id": "402d82d6-ba9c-4504-8d90-2a347a0e0c68",
   "metadata": {},
   "outputs": [
    {
     "data": {
      "application/vnd.plotly.v1+json": {
       "config": {
        "plotlyServerURL": "https://plot.ly"
       },
       "data": [
        {
         "marker": {
          "color": "indianred"
         },
         "name": "Average Rating",
         "type": "bar",
         "x": [
          "SPORTS",
          "GAME",
          "FAMILY",
          "ENTERTAINMENT",
          "PERSONALIZATION",
          "PHOTOGRAPHY",
          "LIFESTYLE",
          "EDUCATION",
          "TOOLS",
          "COMMUNICATION"
         ],
         "y": {
          "bdata": "MzMzMzOzEUBBpw102kARQKZnYXoWphFAMzMzMzMzEUA+CtejcD0SQJqZmZmZmRBA8RVf8RVfEUCamZmZmZkRQB6F61G4HhFAZmZmZmZmEkA=",
          "dtype": "f8"
         }
        },
        {
         "marker": {
          "color": "steelblue"
         },
         "name": "Total Reviews",
         "type": "bar",
         "x": [
          "SPORTS",
          "GAME",
          "FAMILY",
          "ENTERTAINMENT",
          "PERSONALIZATION",
          "PHOTOGRAPHY",
          "LIFESTYLE",
          "EDUCATION",
          "TOOLS",
          "COMMUNICATION"
         ],
         "y": {
          "bdata": "AAAAAEE+PkEAAACAykpCQQAAAABFk0VBVlVVVd6FKkEAAAAAIAsDQQAAAAAQNCFBAAAAACDn5EAAAAAAsCbsQAAAAAAAdb9AAAAAAIDdzUA=",
          "dtype": "f8"
         }
        }
       ],
       "layout": {
        "barmode": "group",
        "height": 600,
        "template": {
         "data": {
          "bar": [
           {
            "error_x": {
             "color": "#2a3f5f"
            },
            "error_y": {
             "color": "#2a3f5f"
            },
            "marker": {
             "line": {
              "color": "#E5ECF6",
              "width": 0.5
             },
             "pattern": {
              "fillmode": "overlay",
              "size": 10,
              "solidity": 0.2
             }
            },
            "type": "bar"
           }
          ],
          "barpolar": [
           {
            "marker": {
             "line": {
              "color": "#E5ECF6",
              "width": 0.5
             },
             "pattern": {
              "fillmode": "overlay",
              "size": 10,
              "solidity": 0.2
             }
            },
            "type": "barpolar"
           }
          ],
          "carpet": [
           {
            "aaxis": {
             "endlinecolor": "#2a3f5f",
             "gridcolor": "white",
             "linecolor": "white",
             "minorgridcolor": "white",
             "startlinecolor": "#2a3f5f"
            },
            "baxis": {
             "endlinecolor": "#2a3f5f",
             "gridcolor": "white",
             "linecolor": "white",
             "minorgridcolor": "white",
             "startlinecolor": "#2a3f5f"
            },
            "type": "carpet"
           }
          ],
          "choropleth": [
           {
            "colorbar": {
             "outlinewidth": 0,
             "ticks": ""
            },
            "type": "choropleth"
           }
          ],
          "contour": [
           {
            "colorbar": {
             "outlinewidth": 0,
             "ticks": ""
            },
            "colorscale": [
             [
              0,
              "#0d0887"
             ],
             [
              0.1111111111111111,
              "#46039f"
             ],
             [
              0.2222222222222222,
              "#7201a8"
             ],
             [
              0.3333333333333333,
              "#9c179e"
             ],
             [
              0.4444444444444444,
              "#bd3786"
             ],
             [
              0.5555555555555556,
              "#d8576b"
             ],
             [
              0.6666666666666666,
              "#ed7953"
             ],
             [
              0.7777777777777778,
              "#fb9f3a"
             ],
             [
              0.8888888888888888,
              "#fdca26"
             ],
             [
              1,
              "#f0f921"
             ]
            ],
            "type": "contour"
           }
          ],
          "contourcarpet": [
           {
            "colorbar": {
             "outlinewidth": 0,
             "ticks": ""
            },
            "type": "contourcarpet"
           }
          ],
          "heatmap": [
           {
            "colorbar": {
             "outlinewidth": 0,
             "ticks": ""
            },
            "colorscale": [
             [
              0,
              "#0d0887"
             ],
             [
              0.1111111111111111,
              "#46039f"
             ],
             [
              0.2222222222222222,
              "#7201a8"
             ],
             [
              0.3333333333333333,
              "#9c179e"
             ],
             [
              0.4444444444444444,
              "#bd3786"
             ],
             [
              0.5555555555555556,
              "#d8576b"
             ],
             [
              0.6666666666666666,
              "#ed7953"
             ],
             [
              0.7777777777777778,
              "#fb9f3a"
             ],
             [
              0.8888888888888888,
              "#fdca26"
             ],
             [
              1,
              "#f0f921"
             ]
            ],
            "type": "heatmap"
           }
          ],
          "histogram": [
           {
            "marker": {
             "pattern": {
              "fillmode": "overlay",
              "size": 10,
              "solidity": 0.2
             }
            },
            "type": "histogram"
           }
          ],
          "histogram2d": [
           {
            "colorbar": {
             "outlinewidth": 0,
             "ticks": ""
            },
            "colorscale": [
             [
              0,
              "#0d0887"
             ],
             [
              0.1111111111111111,
              "#46039f"
             ],
             [
              0.2222222222222222,
              "#7201a8"
             ],
             [
              0.3333333333333333,
              "#9c179e"
             ],
             [
              0.4444444444444444,
              "#bd3786"
             ],
             [
              0.5555555555555556,
              "#d8576b"
             ],
             [
              0.6666666666666666,
              "#ed7953"
             ],
             [
              0.7777777777777778,
              "#fb9f3a"
             ],
             [
              0.8888888888888888,
              "#fdca26"
             ],
             [
              1,
              "#f0f921"
             ]
            ],
            "type": "histogram2d"
           }
          ],
          "histogram2dcontour": [
           {
            "colorbar": {
             "outlinewidth": 0,
             "ticks": ""
            },
            "colorscale": [
             [
              0,
              "#0d0887"
             ],
             [
              0.1111111111111111,
              "#46039f"
             ],
             [
              0.2222222222222222,
              "#7201a8"
             ],
             [
              0.3333333333333333,
              "#9c179e"
             ],
             [
              0.4444444444444444,
              "#bd3786"
             ],
             [
              0.5555555555555556,
              "#d8576b"
             ],
             [
              0.6666666666666666,
              "#ed7953"
             ],
             [
              0.7777777777777778,
              "#fb9f3a"
             ],
             [
              0.8888888888888888,
              "#fdca26"
             ],
             [
              1,
              "#f0f921"
             ]
            ],
            "type": "histogram2dcontour"
           }
          ],
          "mesh3d": [
           {
            "colorbar": {
             "outlinewidth": 0,
             "ticks": ""
            },
            "type": "mesh3d"
           }
          ],
          "parcoords": [
           {
            "line": {
             "colorbar": {
              "outlinewidth": 0,
              "ticks": ""
             }
            },
            "type": "parcoords"
           }
          ],
          "pie": [
           {
            "automargin": true,
            "type": "pie"
           }
          ],
          "scatter": [
           {
            "fillpattern": {
             "fillmode": "overlay",
             "size": 10,
             "solidity": 0.2
            },
            "type": "scatter"
           }
          ],
          "scatter3d": [
           {
            "line": {
             "colorbar": {
              "outlinewidth": 0,
              "ticks": ""
             }
            },
            "marker": {
             "colorbar": {
              "outlinewidth": 0,
              "ticks": ""
             }
            },
            "type": "scatter3d"
           }
          ],
          "scattercarpet": [
           {
            "marker": {
             "colorbar": {
              "outlinewidth": 0,
              "ticks": ""
             }
            },
            "type": "scattercarpet"
           }
          ],
          "scattergeo": [
           {
            "marker": {
             "colorbar": {
              "outlinewidth": 0,
              "ticks": ""
             }
            },
            "type": "scattergeo"
           }
          ],
          "scattergl": [
           {
            "marker": {
             "colorbar": {
              "outlinewidth": 0,
              "ticks": ""
             }
            },
            "type": "scattergl"
           }
          ],
          "scattermap": [
           {
            "marker": {
             "colorbar": {
              "outlinewidth": 0,
              "ticks": ""
             }
            },
            "type": "scattermap"
           }
          ],
          "scattermapbox": [
           {
            "marker": {
             "colorbar": {
              "outlinewidth": 0,
              "ticks": ""
             }
            },
            "type": "scattermapbox"
           }
          ],
          "scatterpolar": [
           {
            "marker": {
             "colorbar": {
              "outlinewidth": 0,
              "ticks": ""
             }
            },
            "type": "scatterpolar"
           }
          ],
          "scatterpolargl": [
           {
            "marker": {
             "colorbar": {
              "outlinewidth": 0,
              "ticks": ""
             }
            },
            "type": "scatterpolargl"
           }
          ],
          "scatterternary": [
           {
            "marker": {
             "colorbar": {
              "outlinewidth": 0,
              "ticks": ""
             }
            },
            "type": "scatterternary"
           }
          ],
          "surface": [
           {
            "colorbar": {
             "outlinewidth": 0,
             "ticks": ""
            },
            "colorscale": [
             [
              0,
              "#0d0887"
             ],
             [
              0.1111111111111111,
              "#46039f"
             ],
             [
              0.2222222222222222,
              "#7201a8"
             ],
             [
              0.3333333333333333,
              "#9c179e"
             ],
             [
              0.4444444444444444,
              "#bd3786"
             ],
             [
              0.5555555555555556,
              "#d8576b"
             ],
             [
              0.6666666666666666,
              "#ed7953"
             ],
             [
              0.7777777777777778,
              "#fb9f3a"
             ],
             [
              0.8888888888888888,
              "#fdca26"
             ],
             [
              1,
              "#f0f921"
             ]
            ],
            "type": "surface"
           }
          ],
          "table": [
           {
            "cells": {
             "fill": {
              "color": "#EBF0F8"
             },
             "line": {
              "color": "white"
             }
            },
            "header": {
             "fill": {
              "color": "#C8D4E3"
             },
             "line": {
              "color": "white"
             }
            },
            "type": "table"
           }
          ]
         },
         "layout": {
          "annotationdefaults": {
           "arrowcolor": "#2a3f5f",
           "arrowhead": 0,
           "arrowwidth": 1
          },
          "autotypenumbers": "strict",
          "coloraxis": {
           "colorbar": {
            "outlinewidth": 0,
            "ticks": ""
           }
          },
          "colorscale": {
           "diverging": [
            [
             0,
             "#8e0152"
            ],
            [
             0.1,
             "#c51b7d"
            ],
            [
             0.2,
             "#de77ae"
            ],
            [
             0.3,
             "#f1b6da"
            ],
            [
             0.4,
             "#fde0ef"
            ],
            [
             0.5,
             "#f7f7f7"
            ],
            [
             0.6,
             "#e6f5d0"
            ],
            [
             0.7,
             "#b8e186"
            ],
            [
             0.8,
             "#7fbc41"
            ],
            [
             0.9,
             "#4d9221"
            ],
            [
             1,
             "#276419"
            ]
           ],
           "sequential": [
            [
             0,
             "#0d0887"
            ],
            [
             0.1111111111111111,
             "#46039f"
            ],
            [
             0.2222222222222222,
             "#7201a8"
            ],
            [
             0.3333333333333333,
             "#9c179e"
            ],
            [
             0.4444444444444444,
             "#bd3786"
            ],
            [
             0.5555555555555556,
             "#d8576b"
            ],
            [
             0.6666666666666666,
             "#ed7953"
            ],
            [
             0.7777777777777778,
             "#fb9f3a"
            ],
            [
             0.8888888888888888,
             "#fdca26"
            ],
            [
             1,
             "#f0f921"
            ]
           ],
           "sequentialminus": [
            [
             0,
             "#0d0887"
            ],
            [
             0.1111111111111111,
             "#46039f"
            ],
            [
             0.2222222222222222,
             "#7201a8"
            ],
            [
             0.3333333333333333,
             "#9c179e"
            ],
            [
             0.4444444444444444,
             "#bd3786"
            ],
            [
             0.5555555555555556,
             "#d8576b"
            ],
            [
             0.6666666666666666,
             "#ed7953"
            ],
            [
             0.7777777777777778,
             "#fb9f3a"
            ],
            [
             0.8888888888888888,
             "#fdca26"
            ],
            [
             1,
             "#f0f921"
            ]
           ]
          },
          "colorway": [
           "#636efa",
           "#EF553B",
           "#00cc96",
           "#ab63fa",
           "#FFA15A",
           "#19d3f3",
           "#FF6692",
           "#B6E880",
           "#FF97FF",
           "#FECB52"
          ],
          "font": {
           "color": "#2a3f5f"
          },
          "geo": {
           "bgcolor": "white",
           "lakecolor": "white",
           "landcolor": "#E5ECF6",
           "showlakes": true,
           "showland": true,
           "subunitcolor": "white"
          },
          "hoverlabel": {
           "align": "left"
          },
          "hovermode": "closest",
          "mapbox": {
           "style": "light"
          },
          "paper_bgcolor": "white",
          "plot_bgcolor": "#E5ECF6",
          "polar": {
           "angularaxis": {
            "gridcolor": "white",
            "linecolor": "white",
            "ticks": ""
           },
           "bgcolor": "#E5ECF6",
           "radialaxis": {
            "gridcolor": "white",
            "linecolor": "white",
            "ticks": ""
           }
          },
          "scene": {
           "xaxis": {
            "backgroundcolor": "#E5ECF6",
            "gridcolor": "white",
            "gridwidth": 2,
            "linecolor": "white",
            "showbackground": true,
            "ticks": "",
            "zerolinecolor": "white"
           },
           "yaxis": {
            "backgroundcolor": "#E5ECF6",
            "gridcolor": "white",
            "gridwidth": 2,
            "linecolor": "white",
            "showbackground": true,
            "ticks": "",
            "zerolinecolor": "white"
           },
           "zaxis": {
            "backgroundcolor": "#E5ECF6",
            "gridcolor": "white",
            "gridwidth": 2,
            "linecolor": "white",
            "showbackground": true,
            "ticks": "",
            "zerolinecolor": "white"
           }
          },
          "shapedefaults": {
           "line": {
            "color": "#2a3f5f"
           }
          },
          "ternary": {
           "aaxis": {
            "gridcolor": "white",
            "linecolor": "white",
            "ticks": ""
           },
           "baxis": {
            "gridcolor": "white",
            "linecolor": "white",
            "ticks": ""
           },
           "bgcolor": "#E5ECF6",
           "caxis": {
            "gridcolor": "white",
            "linecolor": "white",
            "ticks": ""
           }
          },
          "title": {
           "x": 0.05
          },
          "xaxis": {
           "automargin": true,
           "gridcolor": "white",
           "linecolor": "white",
           "ticks": "",
           "title": {
            "standoff": 15
           },
           "zerolinecolor": "white",
           "zerolinewidth": 2
          },
          "yaxis": {
           "automargin": true,
           "gridcolor": "white",
           "linecolor": "white",
           "ticks": "",
           "title": {
            "standoff": 15
           },
           "zerolinecolor": "white",
           "zerolinewidth": 2
          }
         }
        },
        "title": {
         "text": "Average Rating & Total Reviews (Top 10 Categories by Installs)"
        },
        "xaxis": {
         "title": {
          "text": "App Category"
         }
        },
        "yaxis": {
         "title": {
          "text": "Value"
         }
        }
       }
      },
      "image/png": "[encoded data removed]"
     },
     "metadata": {},
     "output_type": "display_data"
    }
   ],
   "source": [
    "# Create chart only if time is between 3 PM and 5 PM IST\n",
    "if 15 <= hour_ist < 17:\n",
    "    fig = go.Figure()\n",
    "    \n",
    "    fig.add_trace(go.Bar(\n",
    "        x=top_categories['Category'],\n",
    "        y=top_categories['Rating'],\n",
    "        name='Average Rating',\n",
    "        marker_color='indianred'\n",
    "    ))\n",
    "    \n",
    "    \n",
    "    fig.add_trace(go.Bar(\n",
    "        x=top_categories['Category'],\n",
    "        y=top_categories['Reviews'],\n",
    "        name='Total Reviews',\n",
    "        marker_color='steelblue'\n",
    "    ))\n",
    "    \n",
    "    fig.update_layout(\n",
    "        title=\"Average Rating & Total Reviews (Top 10 Categories by Installs)\",\n",
    "        xaxis_title=\"App Category\",\n",
    "        yaxis_title=\"Value\",\n",
    "        barmode='group',\n",
    "        height=600\n",
    "    )\n",
    "    fig.show()\n",
    "else:\n",
    "    output = f\"⏱️ Current IST time: {now_ist.strftime('%H:%M:%S')} — Outside 3PM-5PM IST window. Chart is hidden.\"\n",
    "output"
   ]
  },
  {
   "cell_type": "code",
   "execution_count": null,
   "id": "5ccfeff5-0d2d-49a1-9233-57e4816aef03",
   "metadata": {},
   "outputs": [],
   "source": [
    "Result of Task 2:\n",
    "Categories like Game and family had high total review counts\n",
    "Average rating bar was initially hidden due to scale differences\n",
    "Chart now shows average rating (0–5 scale) vs review count (in millions) clearly\n",
    "Dynamic time-based dashboard condition was successfully implemented"
   ]
  },
  {
   "cell_type": "markdown",
   "id": "a3158986-3b5d-4674-abb7-63de6464cb35",
   "metadata": {},
   "source": [
    "# Task 3: Time Series of Installs by Category with Growth Highlights "
   ]
  },
  {
   "cell_type": "code",
   "execution_count": null,
   "id": "c9f2f4d5-a054-4adb-b668-a3c76f1c3ae2",
   "metadata": {},
   "outputs": [],
   "source": [
    "# Task : \n",
    "Plot a time series line chart to show the trend of total installs over time, segmented by app category. Highlight periods of \n",
    "significant growth by shading the areas under the curve where the increase in installs exceeds 20% month-over-month and app name \n",
    "should not starts with x, y ,z and app category should start with letter \" E \" or \" C \" or \" B \" and We have to translate the Beauty \n",
    "category in Hindi and Business category in Tamil and Dating category in German while showing it on Graph. reviews should be more \n",
    "than 500 the app name should not contain letter \"S\" as well as this graph should work only between 6 PM IST to 9 PM IST apart \n",
    "from that time we should not show this graph in dashboard itself"
   ]
  },
  {
   "cell_type": "code",
   "execution_count": 71,
   "id": "81ea55b3-4b34-4dd5-b1ec-23b10af06896",
   "metadata": {},
   "outputs": [],
   "source": [
    "App_df = pd.read_csv(\"D:/Google Play Store Intern/Clean Play Store Data.csv\")"
   ]
  },
  {
   "cell_type": "code",
   "execution_count": 72,
   "id": "b93243c5-22bd-428b-be99-674f631ffbce",
   "metadata": {},
   "outputs": [],
   "source": [
    "# Convert Last Updated to datetime\n",
    "App_df['Last Updated'] = pd.to_datetime(App_df['Last Updated'], errors='coerce')\n",
    "App_df['Month'] = App_df['Last Updated'].dt.month"
   ]
  },
  {
   "cell_type": "code",
   "execution_count": 73,
   "id": "f55c7da4-3cf8-469c-bfef-3b1dc5456450",
   "metadata": {},
   "outputs": [],
   "source": [
    "# Filtering conditions\n",
    "filtered = App_df[\n",
    "    (App_df['Reviews'] > 500)&\n",
    "    (~App_df[\"App\"].str.startswith(('x', 'y', 'z', 'X', 'Y', 'Z')))&\n",
    "    (~App_df[\"App\"].str.contains('s',case = False))&\n",
    "    (App_df['Category'].str.startswith(('E', 'C', 'B')))\n",
    "]"
   ]
  },
  {
   "cell_type": "code",
   "execution_count": 74,
   "id": "d8a1e705-c0c3-4273-85ca-4a06d96d1cba",
   "metadata": {},
   "outputs": [],
   "source": [
    "# Translate categories\n",
    "category_translation = {\n",
    "    'BEAUTY': 'सौंदर्य',        # Hindi\n",
    "    'BUSINESS': 'வணிகம்',       # Tamil\n",
    "    'DATING': 'Partnersuche'    # German\n",
    "}"
   ]
  },
  {
   "cell_type": "code",
   "execution_count": null,
   "id": "5b514270-c5db-486b-ab8a-48180c3cd8f1",
   "metadata": {},
   "outputs": [],
   "source": [
    "filtered['Translated Category'] = filtered['Category'].str.upper().replace(category_translation)\n",
    "filtered['Translated Category'] = filtered['Translated Category'].fillna(filtered['Category'])"
   ]
  },
  {
   "cell_type": "code",
   "execution_count": 76,
   "id": "2571551f-3d6e-4285-9609-ea0e2f88ac96",
   "metadata": {},
   "outputs": [
    {
     "data": {
      "text/html": [
       "<div>\n",
       "<style scoped>\n",
       "    .dataframe tbody tr th:only-of-type {\n",
       "        vertical-align: middle;\n",
       "    }\n",
       "\n",
       "    .dataframe tbody tr th {\n",
       "        vertical-align: top;\n",
       "    }\n",
       "\n",
       "    .dataframe thead th {\n",
       "        text-align: right;\n",
       "    }\n",
       "</style>\n",
       "<table border=\"1\" class=\"dataframe\">\n",
       "  <thead>\n",
       "    <tr style=\"text-align: right;\">\n",
       "      <th></th>\n",
       "      <th>App</th>\n",
       "      <th>Category</th>\n",
       "      <th>Rating</th>\n",
       "      <th>Reviews</th>\n",
       "      <th>SizeInMB</th>\n",
       "      <th>Installs</th>\n",
       "      <th>Type</th>\n",
       "      <th>PriceInDollar</th>\n",
       "      <th>Content Rating</th>\n",
       "      <th>Genres</th>\n",
       "      <th>Last Updated</th>\n",
       "      <th>Update_Year</th>\n",
       "      <th>Revenue</th>\n",
       "      <th>Log_Installs</th>\n",
       "      <th>Log_Reviews</th>\n",
       "      <th>Rating_group</th>\n",
       "      <th>Month</th>\n",
       "      <th>Translated Category</th>\n",
       "    </tr>\n",
       "  </thead>\n",
       "  <tbody>\n",
       "    <tr>\n",
       "      <th>4</th>\n",
       "      <td>/u/app</td>\n",
       "      <td>COMMUNICATION</td>\n",
       "      <td>4.7</td>\n",
       "      <td>573.0</td>\n",
       "      <td>53.0</td>\n",
       "      <td>10000</td>\n",
       "      <td>Free</td>\n",
       "      <td>0.0</td>\n",
       "      <td>Mature 17+</td>\n",
       "      <td>Communication</td>\n",
       "      <td>2018-07-03</td>\n",
       "      <td>2018</td>\n",
       "      <td>0.0</td>\n",
       "      <td>9.210340</td>\n",
       "      <td>6.350886</td>\n",
       "      <td>Top Rated Appa</td>\n",
       "      <td>7</td>\n",
       "      <td>COMMUNICATION</td>\n",
       "    </tr>\n",
       "    <tr>\n",
       "      <th>156</th>\n",
       "      <td>AC Freedom</td>\n",
       "      <td>BUSINESS</td>\n",
       "      <td>3.5</td>\n",
       "      <td>537.0</td>\n",
       "      <td>NaN</td>\n",
       "      <td>100000</td>\n",
       "      <td>Free</td>\n",
       "      <td>0.0</td>\n",
       "      <td>Everyone</td>\n",
       "      <td>Business</td>\n",
       "      <td>2018-05-25</td>\n",
       "      <td>2018</td>\n",
       "      <td>0.0</td>\n",
       "      <td>11.512925</td>\n",
       "      <td>6.285998</td>\n",
       "      <td>Above Average Rated Apps</td>\n",
       "      <td>5</td>\n",
       "      <td>வணிகம்</td>\n",
       "    </tr>\n",
       "    <tr>\n",
       "      <th>383</th>\n",
       "      <td>AT&amp;T Call Protect</td>\n",
       "      <td>COMMUNICATION</td>\n",
       "      <td>4.2</td>\n",
       "      <td>6454.0</td>\n",
       "      <td>15.0</td>\n",
       "      <td>5000000</td>\n",
       "      <td>Free</td>\n",
       "      <td>0.0</td>\n",
       "      <td>Everyone</td>\n",
       "      <td>Communication</td>\n",
       "      <td>2018-05-03</td>\n",
       "      <td>2018</td>\n",
       "      <td>0.0</td>\n",
       "      <td>15.424948</td>\n",
       "      <td>8.772455</td>\n",
       "      <td>Top Rated Appa</td>\n",
       "      <td>5</td>\n",
       "      <td>COMMUNICATION</td>\n",
       "    </tr>\n",
       "  </tbody>\n",
       "</table>\n",
       "</div>"
      ],
      "text/plain": [
       "                   App       Category  Rating  Reviews  SizeInMB  Installs  \\\n",
       "4               /u/app  COMMUNICATION     4.7    573.0      53.0     10000   \n",
       "156         AC Freedom       BUSINESS     3.5    537.0       NaN    100000   \n",
       "383  AT&T Call Protect  COMMUNICATION     4.2   6454.0      15.0   5000000   \n",
       "\n",
       "     Type  PriceInDollar Content Rating         Genres Last Updated  \\\n",
       "4    Free            0.0     Mature 17+  Communication   2018-07-03   \n",
       "156  Free            0.0       Everyone       Business   2018-05-25   \n",
       "383  Free            0.0       Everyone  Communication   2018-05-03   \n",
       "\n",
       "     Update_Year  Revenue  Log_Installs  Log_Reviews  \\\n",
       "4           2018      0.0      9.210340     6.350886   \n",
       "156         2018      0.0     11.512925     6.285998   \n",
       "383         2018      0.0     15.424948     8.772455   \n",
       "\n",
       "                 Rating_group  Month Translated Category  \n",
       "4              Top Rated Appa      7       COMMUNICATION  \n",
       "156  Above Average Rated Apps      5              வணிகம்  \n",
       "383            Top Rated Appa      5       COMMUNICATION  "
      ]
     },
     "execution_count": 76,
     "metadata": {},
     "output_type": "execute_result"
    }
   ],
   "source": [
    "filtered.head(3)"
   ]
  },
  {
   "cell_type": "code",
   "execution_count": 77,
   "id": "cb9b4fd0-5a80-4fd5-8043-3ae70d610917",
   "metadata": {},
   "outputs": [],
   "source": [
    "# Group by Month and Category\n",
    "grouped = filtered.groupby(['Month', 'Translated Category'])['Installs'].sum().reset_index()\n"
   ]
  },
  {
   "cell_type": "code",
   "execution_count": 78,
   "id": "cea697cc-360d-42bc-b1ab-90f7823db3ca",
   "metadata": {},
   "outputs": [],
   "source": [
    "# Calculate MoM growth\n",
    "grouped = grouped.sort_values(['Translated Category', 'Month'])\n",
    "grouped['Prev_Installs'] = grouped.groupby('Translated Category')['Installs'].shift(1)\n",
    "grouped['MoM_Growth'] = (grouped['Installs'] - grouped['Prev_Installs']) / grouped['Prev_Installs']\n",
    "grouped['Highlight'] = grouped['MoM_Growth'] > 0.20"
   ]
  },
  {
   "cell_type": "code",
   "execution_count": 79,
   "id": "98df9291-a1f8-4b40-85a0-231c370781e4",
   "metadata": {},
   "outputs": [],
   "source": [
    "# Time condition check: 6 PM to 9 PM IST\n",
    "now_utc = datetime.now(timezone.utc)\n",
    "now_ist = now_utc + timedelta(hours=5, minutes=30)\n",
    "hour_ist = now_ist.hour"
   ]
  },
  {
   "cell_type": "code",
   "execution_count": 80,
   "id": "f990a9a9-0b7e-4795-a180-6de58553c52c",
   "metadata": {},
   "outputs": [
    {
     "data": {
      "application/vnd.plotly.v1+json": {
       "config": {
        "plotlyServerURL": "https://plot.ly"
       },
       "data": [
        {
         "mode": "lines+markers",
         "name": "BOOKS_AND_REFERENCE",
         "type": "scatter",
         "x": {
          "bdata": "AgAAAAQAAAAFAAAABgAAAAcAAAAIAAAACgAAAAsAAAA=",
          "dtype": "i4"
         },
         "y": {
          "bdata": "oIYBANBHHwBgCG0CwJrPAiBoqAYAfykHIKEHAMDPagA=",
          "dtype": "i4"
         }
        },
        {
         "fill": "tozeroy",
         "fillcolor": "rgba(255, 165, 0, 0.3)",
         "mode": "none",
         "name": "BOOKS_AND_REFERENCE (Growth > 20%)",
         "showlegend": true,
         "type": "scatter",
         "x": {
          "bdata": "BAAAAAUAAAAHAAAACwAAAA==",
          "dtype": "i4"
         },
         "y": {
          "bdata": "0EcfAGAIbQIgaKgGwM9qAA==",
          "dtype": "i4"
         }
        },
        {
         "mode": "lines+markers",
         "name": "COMICS",
         "type": "scatter",
         "x": {
          "bdata": "AwAAAAUAAAAHAAAACAAAAA==",
          "dtype": "i4"
         },
         "y": {
          "bdata": "oIYBAKCGAQCAjVsAkA5NAA==",
          "dtype": "i4"
         }
        },
        {
         "fill": "tozeroy",
         "fillcolor": "rgba(255, 165, 0, 0.3)",
         "mode": "none",
         "name": "COMICS (Growth > 20%)",
         "showlegend": true,
         "type": "scatter",
         "x": {
          "bdata": "BwAAAA==",
          "dtype": "i4"
         },
         "y": {
          "bdata": "gI1bAA==",
          "dtype": "i4"
         }
        },
        {
         "mode": "lines+markers",
         "name": "COMMUNICATION",
         "type": "scatter",
         "x": {
          "bdata": "AQAAAAMAAAAEAAAABQAAAAYAAAAHAAAACAAAAAkAAAALAAAA",
          "dtype": "i4"
         },
         "y": {
          "bdata": "oKr1AADmqgDgyBAAQEtMAKChuACA7GsTMDWETZAFEAAAJPQA",
          "dtype": "i4"
         }
        },
        {
         "fill": "tozeroy",
         "fillcolor": "rgba(255, 165, 0, 0.3)",
         "mode": "none",
         "name": "COMMUNICATION (Growth > 20%)",
         "showlegend": true,
         "type": "scatter",
         "x": {
          "bdata": "BQAAAAYAAAAHAAAACAAAAAsAAAA=",
          "dtype": "i4"
         },
         "y": {
          "bdata": "QEtMAKChuACA7GsTMDWETQAk9AA=",
          "dtype": "i4"
         }
        },
        {
         "mode": "lines+markers",
         "name": "EDUCATION",
         "type": "scatter",
         "x": {
          "bdata": "AQAAAAUAAAAGAAAABwAAAAgAAAAJAAAACgAAAAwAAAA=",
          "dtype": "i4"
         },
         "y": {
          "bdata": "oIYBACALIABAQg8AENDDAQAJPQBAQg8AQEIPAGBNLwA=",
          "dtype": "i4"
         }
        },
        {
         "fill": "tozeroy",
         "fillcolor": "rgba(255, 165, 0, 0.3)",
         "mode": "none",
         "name": "EDUCATION (Growth > 20%)",
         "showlegend": true,
         "type": "scatter",
         "x": {
          "bdata": "BQAAAAcAAAAMAAAA",
          "dtype": "i4"
         },
         "y": {
          "bdata": "IAsgABDQwwFgTS8A",
          "dtype": "i4"
         }
        },
        {
         "mode": "lines+markers",
         "name": "ENTERTAINMENT",
         "type": "scatter",
         "x": {
          "bdata": "AQAAAAMAAAAEAAAABQAAAAYAAAAHAAAACAAAAAkAAAA=",
          "dtype": "i4"
         },
         "y": {
          "bdata": "AC0xAYCWmACAlpgAgI1bAOD1QQEAjLIWAGQBBMDYpwA=",
          "dtype": "i4"
         }
        },
        {
         "fill": "tozeroy",
         "fillcolor": "rgba(255, 165, 0, 0.3)",
         "mode": "none",
         "name": "ENTERTAINMENT (Growth > 20%)",
         "showlegend": true,
         "type": "scatter",
         "x": {
          "bdata": "BgAAAAcAAAA=",
          "dtype": "i4"
         },
         "y": {
          "bdata": "4PVBAQCMshY=",
          "dtype": "i4"
         }
        },
        {
         "mode": "lines+markers",
         "name": "EVENTS",
         "type": "scatter",
         "x": {
          "bdata": "BQAAAAYAAAAHAAAA",
          "dtype": "i4"
         },
         "y": {
          "bdata": "ECcAACChBwDgyBAA",
          "dtype": "i4"
         }
        },
        {
         "fill": "tozeroy",
         "fillcolor": "rgba(255, 165, 0, 0.3)",
         "mode": "none",
         "name": "EVENTS (Growth > 20%)",
         "showlegend": true,
         "type": "scatter",
         "x": {
          "bdata": "BgAAAAcAAAA=",
          "dtype": "i4"
         },
         "y": {
          "bdata": "IKEHAODIEAA=",
          "dtype": "i4"
         }
        },
        {
         "mode": "lines+markers",
         "name": "सौंदर्य",
         "type": "scatter",
         "x": {
          "bdata": "AwAAAAYAAAAHAAAACAAAAA==",
          "dtype": "i4"
         },
         "y": {
          "bdata": "iBMAAEBCDwBAQg8AoIYBAA==",
          "dtype": "i4"
         }
        },
        {
         "fill": "tozeroy",
         "fillcolor": "rgba(255, 165, 0, 0.3)",
         "mode": "none",
         "name": "सौंदर्य (Growth > 20%)",
         "showlegend": true,
         "type": "scatter",
         "x": {
          "bdata": "BgAAAA==",
          "dtype": "i4"
         },
         "y": {
          "bdata": "QEIPAA==",
          "dtype": "i4"
         }
        },
        {
         "mode": "lines+markers",
         "name": "வணிகம்",
         "type": "scatter",
         "x": {
          "bdata": "AgAAAAMAAAAFAAAABgAAAAcAAAAIAAAACQAAAAsAAAAMAAAA",
          "dtype": "i4"
         },
         "y": {
          "bdata": "UGkPAEBCDwBADQMAAO/nAIAAsQBgSdwG4MgQACChBwAoRg8A",
          "dtype": "i4"
         }
        },
        {
         "fill": "tozeroy",
         "fillcolor": "rgba(255, 165, 0, 0.3)",
         "mode": "none",
         "name": "வணிகம் (Growth > 20%)",
         "showlegend": true,
         "type": "scatter",
         "x": {
          "bdata": "BgAAAAgAAAAMAAAA",
          "dtype": "i4"
         },
         "y": {
          "bdata": "AO/nAGBJ3AYoRg8A",
          "dtype": "i4"
         }
        }
       ],
       "layout": {
        "height": 600,
        "template": {
         "data": {
          "bar": [
           {
            "error_x": {
             "color": "#2a3f5f"
            },
            "error_y": {
             "color": "#2a3f5f"
            },
            "marker": {
             "line": {
              "color": "#E5ECF6",
              "width": 0.5
             },
             "pattern": {
              "fillmode": "overlay",
              "size": 10,
              "solidity": 0.2
             }
            },
            "type": "bar"
           }
          ],
          "barpolar": [
           {
            "marker": {
             "line": {
              "color": "#E5ECF6",
              "width": 0.5
             },
             "pattern": {
              "fillmode": "overlay",
              "size": 10,
              "solidity": 0.2
             }
            },
            "type": "barpolar"
           }
          ],
          "carpet": [
           {
            "aaxis": {
             "endlinecolor": "#2a3f5f",
             "gridcolor": "white",
             "linecolor": "white",
             "minorgridcolor": "white",
             "startlinecolor": "#2a3f5f"
            },
            "baxis": {
             "endlinecolor": "#2a3f5f",
             "gridcolor": "white",
             "linecolor": "white",
             "minorgridcolor": "white",
             "startlinecolor": "#2a3f5f"
            },
            "type": "carpet"
           }
          ],
          "choropleth": [
           {
            "colorbar": {
             "outlinewidth": 0,
             "ticks": ""
            },
            "type": "choropleth"
           }
          ],
          "contour": [
           {
            "colorbar": {
             "outlinewidth": 0,
             "ticks": ""
            },
            "colorscale": [
             [
              0,
              "#0d0887"
             ],
             [
              0.1111111111111111,
              "#46039f"
             ],
             [
              0.2222222222222222,
              "#7201a8"
             ],
             [
              0.3333333333333333,
              "#9c179e"
             ],
             [
              0.4444444444444444,
              "#bd3786"
             ],
             [
              0.5555555555555556,
              "#d8576b"
             ],
             [
              0.6666666666666666,
              "#ed7953"
             ],
             [
              0.7777777777777778,
              "#fb9f3a"
             ],
             [
              0.8888888888888888,
              "#fdca26"
             ],
             [
              1,
              "#f0f921"
             ]
            ],
            "type": "contour"
           }
          ],
          "contourcarpet": [
           {
            "colorbar": {
             "outlinewidth": 0,
             "ticks": ""
            },
            "type": "contourcarpet"
           }
          ],
          "heatmap": [
           {
            "colorbar": {
             "outlinewidth": 0,
             "ticks": ""
            },
            "colorscale": [
             [
              0,
              "#0d0887"
             ],
             [
              0.1111111111111111,
              "#46039f"
             ],
             [
              0.2222222222222222,
              "#7201a8"
             ],
             [
              0.3333333333333333,
              "#9c179e"
             ],
             [
              0.4444444444444444,
              "#bd3786"
             ],
             [
              0.5555555555555556,
              "#d8576b"
             ],
             [
              0.6666666666666666,
              "#ed7953"
             ],
             [
              0.7777777777777778,
              "#fb9f3a"
             ],
             [
              0.8888888888888888,
              "#fdca26"
             ],
             [
              1,
              "#f0f921"
             ]
            ],
            "type": "heatmap"
           }
          ],
          "histogram": [
           {
            "marker": {
             "pattern": {
              "fillmode": "overlay",
              "size": 10,
              "solidity": 0.2
             }
            },
            "type": "histogram"
           }
          ],
          "histogram2d": [
           {
            "colorbar": {
             "outlinewidth": 0,
             "ticks": ""
            },
            "colorscale": [
             [
              0,
              "#0d0887"
             ],
             [
              0.1111111111111111,
              "#46039f"
             ],
             [
              0.2222222222222222,
              "#7201a8"
             ],
             [
              0.3333333333333333,
              "#9c179e"
             ],
             [
              0.4444444444444444,
              "#bd3786"
             ],
             [
              0.5555555555555556,
              "#d8576b"
             ],
             [
              0.6666666666666666,
              "#ed7953"
             ],
             [
              0.7777777777777778,
              "#fb9f3a"
             ],
             [
              0.8888888888888888,
              "#fdca26"
             ],
             [
              1,
              "#f0f921"
             ]
            ],
            "type": "histogram2d"
           }
          ],
          "histogram2dcontour": [
           {
            "colorbar": {
             "outlinewidth": 0,
             "ticks": ""
            },
            "colorscale": [
             [
              0,
              "#0d0887"
             ],
             [
              0.1111111111111111,
              "#46039f"
             ],
             [
              0.2222222222222222,
              "#7201a8"
             ],
             [
              0.3333333333333333,
              "#9c179e"
             ],
             [
              0.4444444444444444,
              "#bd3786"
             ],
             [
              0.5555555555555556,
              "#d8576b"
             ],
             [
              0.6666666666666666,
              "#ed7953"
             ],
             [
              0.7777777777777778,
              "#fb9f3a"
             ],
             [
              0.8888888888888888,
              "#fdca26"
             ],
             [
              1,
              "#f0f921"
             ]
            ],
            "type": "histogram2dcontour"
           }
          ],
          "mesh3d": [
           {
            "colorbar": {
             "outlinewidth": 0,
             "ticks": ""
            },
            "type": "mesh3d"
           }
          ],
          "parcoords": [
           {
            "line": {
             "colorbar": {
              "outlinewidth": 0,
              "ticks": ""
             }
            },
            "type": "parcoords"
           }
          ],
          "pie": [
           {
            "automargin": true,
            "type": "pie"
           }
          ],
          "scatter": [
           {
            "fillpattern": {
             "fillmode": "overlay",
             "size": 10,
             "solidity": 0.2
            },
            "type": "scatter"
           }
          ],
          "scatter3d": [
           {
            "line": {
             "colorbar": {
              "outlinewidth": 0,
              "ticks": ""
             }
            },
            "marker": {
             "colorbar": {
              "outlinewidth": 0,
              "ticks": ""
             }
            },
            "type": "scatter3d"
           }
          ],
          "scattercarpet": [
           {
            "marker": {
             "colorbar": {
              "outlinewidth": 0,
              "ticks": ""
             }
            },
            "type": "scattercarpet"
           }
          ],
          "scattergeo": [
           {
            "marker": {
             "colorbar": {
              "outlinewidth": 0,
              "ticks": ""
             }
            },
            "type": "scattergeo"
           }
          ],
          "scattergl": [
           {
            "marker": {
             "colorbar": {
              "outlinewidth": 0,
              "ticks": ""
             }
            },
            "type": "scattergl"
           }
          ],
          "scattermap": [
           {
            "marker": {
             "colorbar": {
              "outlinewidth": 0,
              "ticks": ""
             }
            },
            "type": "scattermap"
           }
          ],
          "scattermapbox": [
           {
            "marker": {
             "colorbar": {
              "outlinewidth": 0,
              "ticks": ""
             }
            },
            "type": "scattermapbox"
           }
          ],
          "scatterpolar": [
           {
            "marker": {
             "colorbar": {
              "outlinewidth": 0,
              "ticks": ""
             }
            },
            "type": "scatterpolar"
           }
          ],
          "scatterpolargl": [
           {
            "marker": {
             "colorbar": {
              "outlinewidth": 0,
              "ticks": ""
             }
            },
            "type": "scatterpolargl"
           }
          ],
          "scatterternary": [
           {
            "marker": {
             "colorbar": {
              "outlinewidth": 0,
              "ticks": ""
             }
            },
            "type": "scatterternary"
           }
          ],
          "surface": [
           {
            "colorbar": {
             "outlinewidth": 0,
             "ticks": ""
            },
            "colorscale": [
             [
              0,
              "#0d0887"
             ],
             [
              0.1111111111111111,
              "#46039f"
             ],
             [
              0.2222222222222222,
              "#7201a8"
             ],
             [
              0.3333333333333333,
              "#9c179e"
             ],
             [
              0.4444444444444444,
              "#bd3786"
             ],
             [
              0.5555555555555556,
              "#d8576b"
             ],
             [
              0.6666666666666666,
              "#ed7953"
             ],
             [
              0.7777777777777778,
              "#fb9f3a"
             ],
             [
              0.8888888888888888,
              "#fdca26"
             ],
             [
              1,
              "#f0f921"
             ]
            ],
            "type": "surface"
           }
          ],
          "table": [
           {
            "cells": {
             "fill": {
              "color": "#EBF0F8"
             },
             "line": {
              "color": "white"
             }
            },
            "header": {
             "fill": {
              "color": "#C8D4E3"
             },
             "line": {
              "color": "white"
             }
            },
            "type": "table"
           }
          ]
         },
         "layout": {
          "annotationdefaults": {
           "arrowcolor": "#2a3f5f",
           "arrowhead": 0,
           "arrowwidth": 1
          },
          "autotypenumbers": "strict",
          "coloraxis": {
           "colorbar": {
            "outlinewidth": 0,
            "ticks": ""
           }
          },
          "colorscale": {
           "diverging": [
            [
             0,
             "#8e0152"
            ],
            [
             0.1,
             "#c51b7d"
            ],
            [
             0.2,
             "#de77ae"
            ],
            [
             0.3,
             "#f1b6da"
            ],
            [
             0.4,
             "#fde0ef"
            ],
            [
             0.5,
             "#f7f7f7"
            ],
            [
             0.6,
             "#e6f5d0"
            ],
            [
             0.7,
             "#b8e186"
            ],
            [
             0.8,
             "#7fbc41"
            ],
            [
             0.9,
             "#4d9221"
            ],
            [
             1,
             "#276419"
            ]
           ],
           "sequential": [
            [
             0,
             "#0d0887"
            ],
            [
             0.1111111111111111,
             "#46039f"
            ],
            [
             0.2222222222222222,
             "#7201a8"
            ],
            [
             0.3333333333333333,
             "#9c179e"
            ],
            [
             0.4444444444444444,
             "#bd3786"
            ],
            [
             0.5555555555555556,
             "#d8576b"
            ],
            [
             0.6666666666666666,
             "#ed7953"
            ],
            [
             0.7777777777777778,
             "#fb9f3a"
            ],
            [
             0.8888888888888888,
             "#fdca26"
            ],
            [
             1,
             "#f0f921"
            ]
           ],
           "sequentialminus": [
            [
             0,
             "#0d0887"
            ],
            [
             0.1111111111111111,
             "#46039f"
            ],
            [
             0.2222222222222222,
             "#7201a8"
            ],
            [
             0.3333333333333333,
             "#9c179e"
            ],
            [
             0.4444444444444444,
             "#bd3786"
            ],
            [
             0.5555555555555556,
             "#d8576b"
            ],
            [
             0.6666666666666666,
             "#ed7953"
            ],
            [
             0.7777777777777778,
             "#fb9f3a"
            ],
            [
             0.8888888888888888,
             "#fdca26"
            ],
            [
             1,
             "#f0f921"
            ]
           ]
          },
          "colorway": [
           "#636efa",
           "#EF553B",
           "#00cc96",
           "#ab63fa",
           "#FFA15A",
           "#19d3f3",
           "#FF6692",
           "#B6E880",
           "#FF97FF",
           "#FECB52"
          ],
          "font": {
           "color": "#2a3f5f"
          },
          "geo": {
           "bgcolor": "white",
           "lakecolor": "white",
           "landcolor": "#E5ECF6",
           "showlakes": true,
           "showland": true,
           "subunitcolor": "white"
          },
          "hoverlabel": {
           "align": "left"
          },
          "hovermode": "closest",
          "mapbox": {
           "style": "light"
          },
          "paper_bgcolor": "white",
          "plot_bgcolor": "#E5ECF6",
          "polar": {
           "angularaxis": {
            "gridcolor": "white",
            "linecolor": "white",
            "ticks": ""
           },
           "bgcolor": "#E5ECF6",
           "radialaxis": {
            "gridcolor": "white",
            "linecolor": "white",
            "ticks": ""
           }
          },
          "scene": {
           "xaxis": {
            "backgroundcolor": "#E5ECF6",
            "gridcolor": "white",
            "gridwidth": 2,
            "linecolor": "white",
            "showbackground": true,
            "ticks": "",
            "zerolinecolor": "white"
           },
           "yaxis": {
            "backgroundcolor": "#E5ECF6",
            "gridcolor": "white",
            "gridwidth": 2,
            "linecolor": "white",
            "showbackground": true,
            "ticks": "",
            "zerolinecolor": "white"
           },
           "zaxis": {
            "backgroundcolor": "#E5ECF6",
            "gridcolor": "white",
            "gridwidth": 2,
            "linecolor": "white",
            "showbackground": true,
            "ticks": "",
            "zerolinecolor": "white"
           }
          },
          "shapedefaults": {
           "line": {
            "color": "#2a3f5f"
           }
          },
          "ternary": {
           "aaxis": {
            "gridcolor": "white",
            "linecolor": "white",
            "ticks": ""
           },
           "baxis": {
            "gridcolor": "white",
            "linecolor": "white",
            "ticks": ""
           },
           "bgcolor": "#E5ECF6",
           "caxis": {
            "gridcolor": "white",
            "linecolor": "white",
            "ticks": ""
           }
          },
          "title": {
           "x": 0.05
          },
          "xaxis": {
           "automargin": true,
           "gridcolor": "white",
           "linecolor": "white",
           "ticks": "",
           "title": {
            "standoff": 15
           },
           "zerolinecolor": "white",
           "zerolinewidth": 2
          },
          "yaxis": {
           "automargin": true,
           "gridcolor": "white",
           "linecolor": "white",
           "ticks": "",
           "title": {
            "standoff": 15
           },
           "zerolinecolor": "white",
           "zerolinewidth": 2
          }
         }
        },
        "title": {
         "text": "📈 Total Installs Over Time by Category (with >20% MoM Growth Highlighted)"
        },
        "xaxis": {
         "title": {
          "text": "Month"
         }
        },
        "yaxis": {
         "title": {
          "text": "Total Installs"
         }
        }
       }
      },
      "image/png": "[encoded data removed]"
     },
     "metadata": {},
     "output_type": "display_data"
    }
   ],
   "source": [
    "if 18 <= hour_ist < 21:\n",
    "    fig = go.Figure()\n",
    "    \n",
    "    # Plot each category line\n",
    "    for category in grouped['Translated Category'].unique():\n",
    "        cat_data = grouped[grouped['Translated Category'] == category]\n",
    "        \n",
    "        fig.add_trace(go.Scatter(\n",
    "            x=cat_data['Month'],\n",
    "            y=cat_data['Installs'],\n",
    "            mode='lines+markers',\n",
    "            name=category\n",
    "        ))\n",
    "    \n",
    "        # Add shaded areas for growth > 20%\n",
    "        highlight_data = cat_data[cat_data['Highlight']]\n",
    "        if not highlight_data.empty:\n",
    "            fig.add_trace(go.Scatter(\n",
    "                x=highlight_data['Month'],\n",
    "                y=highlight_data['Installs'],\n",
    "                fill='tozeroy',\n",
    "                mode='none',\n",
    "                name=f\"{category} (Growth > 20%)\",\n",
    "                fillcolor='rgba(255, 165, 0, 0.3)',\n",
    "                showlegend=True\n",
    "            ))\n",
    "    \n",
    "    fig.update_layout(\n",
    "        title=\"📈 Total Installs Over Time by Category (with >20% MoM Growth Highlighted)\",\n",
    "        xaxis_title=\"Month\",\n",
    "        yaxis_title=\"Total Installs\",\n",
    "        height=600\n",
    "    )\n",
    "    fig.show()\n",
    "else:\n",
    "    f\"⏱️ Current IST time: {now_ist.strftime('%H:%M:%S')} — Outside 6PM-9PM IST window. Graph is hidden.\""
   ]
  },
  {
   "cell_type": "code",
   "execution_count": null,
   "id": "b2602f01-de2b-476b-954d-a7f2a0a070c5",
   "metadata": {},
   "outputs": [],
   "source": [
    "Result of task 3:\n",
    "Line charts by category with shaded areas showing sharp growth months\n",
    "Translations were applied correctly to category labels\n",
    "Category-specific trends were visible, e.g., big surges in Business and Communication apps\n",
    "Chart was shown conditionally based on current IST time"
   ]
  },
  {
   "cell_type": "markdown",
   "id": "9705721d-794f-40cf-9d5a-3383dcb16d53",
   "metadata": {},
   "source": [
    "# for Representing all 3 chart on webpage "
   ]
  },
  {
   "cell_type": "code",
   "execution_count": 86,
   "id": "6a8837a1-bafa-45d8-ab44-930f57a46e91",
   "metadata": {},
   "outputs": [],
   "source": [
    "html_file_path = 'C:\\\\Users\\\\PUNEET\\\\Desktop\\\\ml\\\\Google Play Store\\\\plotly_Task_Graphs'\n",
    "if not os.path.exists(html_file_path):\n",
    "    os.makedirs(html_file_path)"
   ]
  },
  {
   "cell_type": "code",
   "execution_count": 87,
   "id": "b1a0775a-2e7a-4983-a0f7-1deddde9ae3e",
   "metadata": {},
   "outputs": [],
   "source": [
    "# Save each plotly Figure to a html file\n",
    "plot_containers = ''\n",
    "def save_Plot_as_html(fig, filename, insight):\n",
    "    global plot_containers\n",
    "    filepath = os.path.join(html_file_path, filename)\n",
    "    html_content = pio.to_html(fig,full_html = False, include_plotlyjs = 'inline')\n",
    "    # Append the plot and its insights into plot_containers\n",
    "    plot_containers += f'''\n",
    "    <div class = \"plot-container\" id = \"{filename}\" onclick = \"openPlot('{filename}')\">\n",
    "        <div class = \"plot\">{html_content}</div>\n",
    "        <div class = \"insights\">{insight}</div>\n",
    "    </div>\n",
    "    '''\n",
    "    fig.write_html(filepath, full_html = False, include_plotlyjs = 'inline')\n",
    "    "
   ]
  },
  {
   "cell_type": "code",
   "execution_count": 88,
   "id": "39f6013a-5c86-45a1-bc2a-6047728dfcc2",
   "metadata": {},
   "outputs": [],
   "source": [
    "fig1 = px.bar(\n",
    "    melted,\n",
    "    x = 'Category_Rating',\n",
    "    y = 'Review Count',\n",
    "    color=\"Sentiment\",\n",
    "    title=\"Sentiment Distribution by Rating Group (Top 5 Categories, >1000 Reviews)\",\n",
    "    labels = {\"Category_Rating\": \"Category and Rating Group\"},\n",
    "    barmode='stack',\n",
    "    height=500,\n",
    "    width = 900\n",
    ")\n",
    "# fig.update_layout()\n",
    "\n",
    "fig1.update_layout(\n",
    "    xaxis_tickangle=-45,\n",
    "    plot_bgcolor='#7F8CAA',\n",
    "    paper_bgcolor='#898AC4',\n",
    "    font_color='#0E2148',\n",
    "    title_font={'size': 16},\n",
    "    xaxis=dict(title_font={'size': 12}),\n",
    "    yaxis=dict(title_font={'size': 12}),\n",
    "    margin=dict(l=10, r=10, t=30, b=10)\n",
    ")\n",
    "\n",
    "save_Plot_as_html(fig1,'Sentiment distribution 1.html', ' games and productions appe have more review, Sentiment in review show a mix of positive, negative and neutral feedback, with a slight lean towards positive sentiments')"
   ]
  },
  {
   "cell_type": "code",
   "execution_count": 89,
   "id": "9a35c714-982c-43b8-9c51-653b79784762",
   "metadata": {},
   "outputs": [],
   "source": [
    "fig2 = go.Figure()\n",
    "fig2.add_trace(go.Bar(\n",
    "    x=top_categories['Category'],\n",
    "    y=top_categories['Rating'],\n",
    "    name='Average Rating',\n",
    "    marker_color='indianred'\n",
    "))\n",
    "\n",
    "\n",
    "fig2.add_trace(go.Bar(\n",
    "    x=top_categories['Category'],\n",
    "    y=top_categories['Reviews'],\n",
    "    name='Total Reviews',\n",
    "    marker_color='steelblue'\n",
    "))\n",
    "\n",
    "fig2.update_layout(\n",
    "    title=\"Average Rating & Total Reviews (Top 10 Categories by Installs)\",\n",
    "    xaxis_title=\"App Category\",\n",
    "    yaxis_title=\"Value\",\n",
    "    barmode='group',\n",
    "    height=500,\n",
    "    width = 800\n",
    ")\n",
    "fig2.update_layout(\n",
    "    plot_bgcolor='#7F8CAA',\n",
    "    paper_bgcolor='#898AC4',\n",
    "    font_color='#0E2148',\n",
    "    title_font={'size': 16},\n",
    "    xaxis=dict(title_font={'size': 12}),\n",
    "    yaxis=dict(title_font={'size': 12}),\n",
    "    margin=dict(l=10, r=10, t=30, b=10)\n",
    ")\n",
    "\n",
    "save_Plot_as_html(fig2,'average rating vs total review 2.html', 'family, game, and sports have more reviews and average rating')"
   ]
  },
  {
   "cell_type": "code",
   "execution_count": 90,
   "id": "cef70e73-57b6-47fb-8ff8-c3e7f4e50cb3",
   "metadata": {},
   "outputs": [],
   "source": [
    "fig3 = go.Figure()\n",
    "\n",
    "# Plot each category line\n",
    "for category in grouped['Translated Category'].unique():\n",
    "    cat_data = grouped[grouped['Translated Category'] == category]\n",
    "    \n",
    "    fig3.add_trace(go.Scatter(\n",
    "        x=cat_data['Month'],\n",
    "        y=cat_data['Installs'],\n",
    "        mode='lines+markers',\n",
    "        name=category\n",
    "    ))\n",
    "\n",
    "    # Add shaded areas for growth > 20%\n",
    "    highlight_data = cat_data[cat_data['Highlight']]\n",
    "    if not highlight_data.empty:\n",
    "        fig3.add_trace(go.Scatter(\n",
    "            x=highlight_data['Month'],\n",
    "            y=highlight_data['Installs'],\n",
    "            fill='tozeroy',\n",
    "            mode='none',\n",
    "            name=f\"{category} (Growth > 20%)\",\n",
    "            fillcolor='rgba(255, 165, 0, 0.3)',\n",
    "            showlegend=True\n",
    "        ))\n",
    "\n",
    "fig3.update_layout(\n",
    "    title=\"📈 Total Installs Over Time by Category (with >20% MoM Growth Highlighted)\",\n",
    "    xaxis_title=\"Month\",\n",
    "    yaxis_title=\"Total Installs\",\n",
    "    height=500,\n",
    "    width = 800\n",
    ")\n",
    "save_Plot_as_html(fig3,'Install over time 3.html', 'Line charts by category with shaded areas showing sharp growth months, Category-specific trends were visible, e.g., big surges in Business and Communication apps')"
   ]
  },
  {
   "cell_type": "code",
   "execution_count": 91,
   "id": "64673dcd-e48d-452a-be88-d5994919b5eb",
   "metadata": {},
   "outputs": [],
   "source": [
    "plot_containers_Split = plot_containers.split('</div>')\n",
    "if len(plot_containers_Split) > 1:\n",
    "    # Take the second last split segment and close the div tag\n",
    "    final_plot = plot_containers_Split[-2] + '</div>'\n",
    "else:\n",
    "    # Use the whole original container string if there's no second last part\n",
    "    final_plot = plot_containers"
   ]
  },
  {
   "cell_type": "code",
   "execution_count": 92,
   "id": "97c644d7-28bb-4c87-ab5a-e05d787925d2",
   "metadata": {},
   "outputs": [],
   "source": [
    "# webpage for showing all charts\n",
    "# Adjust height, width and style for all charts\n",
    "dashboard_html = \"\"\"\n",
    "<!DOCTYPE html>\n",
    "<html lang=\"en\">\n",
    "  <head>\n",
    "    <meta charset=\"UTF-8\" />\n",
    "    <meta name=\"viewport\" content=\"width=device-width, initial-scale=1.0\" />\n",
    "    <title>Google Play Store Review Analytics</title>\n",
    "    <style>\n",
    "        body{{\n",
    "            font-family: Arial, sans-serif;\n",
    "            background-color: #333;\n",
    "            color: #fff;\n",
    "            padding: 0;\n",
    "            margin: 0;\n",
    "        }}\n",
    "        .header{{\n",
    "            display: flex;\n",
    "            align-items: center;\n",
    "            justify-content: center;\n",
    "            padding: 20px;\n",
    "            background-color: #444;\n",
    "        }}\n",
    "        .header img {{\n",
    "            margin: 0 10px;\n",
    "            height: 50px;\n",
    "        }}\n",
    "        \n",
    "        .container {{\n",
    "            display: flex;\n",
    "            flex-wrap: wrap;\n",
    "            justify-content: center;\n",
    "            padding: 20px;\n",
    "        }}\n",
    "        \n",
    "        .plot-container {{\n",
    "            border: 2px solid #555;\n",
    "            margin: 10px;\n",
    "            padding: 10px;\n",
    "            width: {plot_width}px;\n",
    "            height: {plot_height}px;\n",
    "            overflow: hidden;\n",
    "            position: relative;\n",
    "            cursor: pointer;\n",
    "        }}\n",
    "        \n",
    "        .insights {{\n",
    "            display: none;\n",
    "            position: absolute;\n",
    "            right: 10px;\n",
    "            top: 10px;\n",
    "            background-color: rgba(0, 0, 0, 0.7);\n",
    "            padding: 5px;\n",
    "            border-radius: 5px;\n",
    "            color: #fff;\n",
    "        }}\n",
    "        \n",
    "        .plot-container:hover .insights {{\n",
    "            display: block;\n",
    "        }}\n",
    "    </style>\n",
    "    <script>\n",
    "        function openPlot(filename) {{\n",
    "            window.open(filename, '_blank');\n",
    "        }}\n",
    "    </script>\n",
    "  </head>\n",
    "  <body>\n",
    "      <div class = \"header\">\n",
    "          <img src=\"https://upload.wikimedia.org/wikipedia/commons/2/2f/Google_2015_logo.svg\" alt=\"Google Logo\" height=\"50\">\n",
    "          <h1>Google Play Store Review Analytics</h1>\n",
    "          <img src=\"https://upload.wikimedia.org/wikipedia/commons/thumb/7/78/Google_Play_Store_badge_EN.svg/1024px-Google_Play_Store_badge_EN.svg.png\" alt=\"Google Play Logo\" height=\"50\">\n",
    "      </div>\n",
    "      <div class = \"container\">\n",
    "          {plots}\n",
    "      </div>\n",
    "  </body>\n",
    "</html>\n",
    "\"\"\""
   ]
  },
  {
   "cell_type": "code",
   "execution_count": 93,
   "id": "67905678-99ee-49b5-b82a-f6e74f26ae25",
   "metadata": {},
   "outputs": [
    {
     "data": {
      "text/plain": [
       "True"
      ]
     },
     "execution_count": 93,
     "metadata": {},
     "output_type": "execute_result"
    }
   ],
   "source": [
    "final_html = dashboard_html.format(plots=plot_containers,plot_width=plot_width,plot_height=plot_height)\n",
    "dashboard_path = os.path.join(html_file_path, \"web page.html\")\n",
    "with open(dashboard_path, \"w\", encoding = \"utf-8\") as f:\n",
    "    f.write(final_html)\n",
    "webbrowser.open('file://'+os.path.realpath(dashboard_path))"
   ]
  }
 ],
 "metadata": {
  "kernelspec": {
   "display_name": "Python 3 (ipykernel)",
   "language": "python",
   "name": "python3"
  },
  "language_info": {
   "codemirror_mode": {
    "name": "ipython",
    "version": 3
   },
   "file_extension": ".py",
   "mimetype": "text/x-python",
   "name": "python",
   "nbconvert_exporter": "python",
   "pygments_lexer": "ipython3",
   "version": "3.13.2"
  }
 },
 "nbformat": 4,
 "nbformat_minor": 5
}
