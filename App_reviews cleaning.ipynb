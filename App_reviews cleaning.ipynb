{
 "cells": [
  {
   "cell_type": "code",
   "execution_count": 1,
   "id": "afa00f17-bf8b-4478-b686-38484c346bc8",
   "metadata": {},
   "outputs": [],
   "source": [
    "# Import libraries \n",
    "import pandas as pd\n",
    "import numpy as np\n",
    "import plotly.express as px\n",
    "import plotly.io as pio\n",
    "import nltk\n",
    "from nltk.sentiment.vader import SentimentIntensityAnalyzer\n",
    "import webbrowser\n",
    "import os"
   ]
  },
  {
   "cell_type": "code",
   "execution_count": 2,
   "id": "5db4820f-64b3-4041-92f3-3fd8c6d32bd2",
   "metadata": {},
   "outputs": [],
   "source": [
    "# Load review dataset from specific location\n",
    "review_data = pd.read_csv(\"D:/Google Play Store Intern/User Reviews.csv\") "
   ]
  },
  {
   "cell_type": "code",
   "execution_count": 3,
   "id": "a19d093c-4c58-4469-a047-ea3307861749",
   "metadata": {},
   "outputs": [
    {
     "data": {
      "text/html": [
       "<div>\n",
       "<style scoped>\n",
       "    .dataframe tbody tr th:only-of-type {\n",
       "        vertical-align: middle;\n",
       "    }\n",
       "\n",
       "    .dataframe tbody tr th {\n",
       "        vertical-align: top;\n",
       "    }\n",
       "\n",
       "    .dataframe thead th {\n",
       "        text-align: right;\n",
       "    }\n",
       "</style>\n",
       "<table border=\"1\" class=\"dataframe\">\n",
       "  <thead>\n",
       "    <tr style=\"text-align: right;\">\n",
       "      <th></th>\n",
       "      <th>App</th>\n",
       "      <th>Translated_Review</th>\n",
       "      <th>Sentiment</th>\n",
       "      <th>Sentiment_Polarity</th>\n",
       "      <th>Sentiment_Subjectivity</th>\n",
       "    </tr>\n",
       "  </thead>\n",
       "  <tbody>\n",
       "    <tr>\n",
       "      <th>0</th>\n",
       "      <td>10 Best Foods for You</td>\n",
       "      <td>I like eat delicious food. That's I'm cooking ...</td>\n",
       "      <td>Positive</td>\n",
       "      <td>1.00</td>\n",
       "      <td>0.533333</td>\n",
       "    </tr>\n",
       "    <tr>\n",
       "      <th>1</th>\n",
       "      <td>10 Best Foods for You</td>\n",
       "      <td>This help eating healthy exercise regular basis</td>\n",
       "      <td>Positive</td>\n",
       "      <td>0.25</td>\n",
       "      <td>0.288462</td>\n",
       "    </tr>\n",
       "  </tbody>\n",
       "</table>\n",
       "</div>"
      ],
      "text/plain": [
       "                     App                                  Translated_Review  \\\n",
       "0  10 Best Foods for You  I like eat delicious food. That's I'm cooking ...   \n",
       "1  10 Best Foods for You    This help eating healthy exercise regular basis   \n",
       "\n",
       "  Sentiment  Sentiment_Polarity  Sentiment_Subjectivity  \n",
       "0  Positive                1.00                0.533333  \n",
       "1  Positive                0.25                0.288462  "
      ]
     },
     "execution_count": 3,
     "metadata": {},
     "output_type": "execute_result"
    }
   ],
   "source": [
    "review_data.head() # show top 5 rows of dataset"
   ]
  },
  {
   "cell_type": "code",
   "execution_count": 4,
   "id": "6c845a70-8562-4c69-910e-392b4660ecc6",
   "metadata": {},
   "outputs": [
    {
     "data": {
      "text/plain": [
       "(64295, 5)"
      ]
     },
     "execution_count": 4,
     "metadata": {},
     "output_type": "execute_result"
    }
   ],
   "source": [
    "review_data.shape "
   ]
  },
  {
   "cell_type": "code",
   "execution_count": 5,
   "id": "bc498bf9-a53e-4d96-b0ef-915aef4315f8",
   "metadata": {},
   "outputs": [
    {
     "name": "stdout",
     "output_type": "stream",
     "text": [
      "<class 'pandas.core.frame.DataFrame'>\n",
      "RangeIndex: 64295 entries, 0 to 64294\n",
      "Data columns (total 5 columns):\n",
      " #   Column                  Non-Null Count  Dtype  \n",
      "---  ------                  --------------  -----  \n",
      " 0   App                     64295 non-null  object \n",
      " 1   Translated_Review       37427 non-null  object \n",
      " 2   Sentiment               37432 non-null  object \n",
      " 3   Sentiment_Polarity      37432 non-null  float64\n",
      " 4   Sentiment_Subjectivity  37432 non-null  float64\n",
      "dtypes: float64(2), object(3)\n",
      "memory usage: 2.5+ MB\n"
     ]
    }
   ],
   "source": [
    "review_data.info()"
   ]
  },
  {
   "cell_type": "code",
   "execution_count": 6,
   "id": "6995203e-1086-47f0-9d03-feb72afc8298",
   "metadata": {},
   "outputs": [
    {
     "data": {
      "text/html": [
       "<div>\n",
       "<style scoped>\n",
       "    .dataframe tbody tr th:only-of-type {\n",
       "        vertical-align: middle;\n",
       "    }\n",
       "\n",
       "    .dataframe tbody tr th {\n",
       "        vertical-align: top;\n",
       "    }\n",
       "\n",
       "    .dataframe thead th {\n",
       "        text-align: right;\n",
       "    }\n",
       "</style>\n",
       "<table border=\"1\" class=\"dataframe\">\n",
       "  <thead>\n",
       "    <tr style=\"text-align: right;\">\n",
       "      <th></th>\n",
       "      <th>Sentiment_Polarity</th>\n",
       "      <th>Sentiment_Subjectivity</th>\n",
       "    </tr>\n",
       "  </thead>\n",
       "  <tbody>\n",
       "    <tr>\n",
       "      <th>count</th>\n",
       "      <td>37432.000000</td>\n",
       "      <td>37432.000000</td>\n",
       "    </tr>\n",
       "    <tr>\n",
       "      <th>mean</th>\n",
       "      <td>0.182146</td>\n",
       "      <td>0.492704</td>\n",
       "    </tr>\n",
       "    <tr>\n",
       "      <th>std</th>\n",
       "      <td>0.351301</td>\n",
       "      <td>0.259949</td>\n",
       "    </tr>\n",
       "    <tr>\n",
       "      <th>min</th>\n",
       "      <td>-1.000000</td>\n",
       "      <td>0.000000</td>\n",
       "    </tr>\n",
       "    <tr>\n",
       "      <th>25%</th>\n",
       "      <td>0.000000</td>\n",
       "      <td>0.357143</td>\n",
       "    </tr>\n",
       "    <tr>\n",
       "      <th>50%</th>\n",
       "      <td>0.150000</td>\n",
       "      <td>0.514286</td>\n",
       "    </tr>\n",
       "    <tr>\n",
       "      <th>75%</th>\n",
       "      <td>0.400000</td>\n",
       "      <td>0.650000</td>\n",
       "    </tr>\n",
       "    <tr>\n",
       "      <th>max</th>\n",
       "      <td>1.000000</td>\n",
       "      <td>1.000000</td>\n",
       "    </tr>\n",
       "  </tbody>\n",
       "</table>\n",
       "</div>"
      ],
      "text/plain": [
       "       Sentiment_Polarity  Sentiment_Subjectivity\n",
       "count        37432.000000            37432.000000\n",
       "mean             0.182146                0.492704\n",
       "std              0.351301                0.259949\n",
       "min             -1.000000                0.000000\n",
       "25%              0.000000                0.357143\n",
       "50%              0.150000                0.514286\n",
       "75%              0.400000                0.650000\n",
       "max              1.000000                1.000000"
      ]
     },
     "execution_count": 6,
     "metadata": {},
     "output_type": "execute_result"
    }
   ],
   "source": [
    "review_data.describe()"
   ]
  },
  {
   "cell_type": "code",
   "execution_count": 7,
   "id": "b304f6fd-f7fd-44ee-b149-618aebec8fa0",
   "metadata": {},
   "outputs": [
    {
     "data": {
      "text/html": [
       "<div>\n",
       "<style scoped>\n",
       "    .dataframe tbody tr th:only-of-type {\n",
       "        vertical-align: middle;\n",
       "    }\n",
       "\n",
       "    .dataframe tbody tr th {\n",
       "        vertical-align: top;\n",
       "    }\n",
       "\n",
       "    .dataframe thead th {\n",
       "        text-align: right;\n",
       "    }\n",
       "</style>\n",
       "<table border=\"1\" class=\"dataframe\">\n",
       "  <thead>\n",
       "    <tr style=\"text-align: right;\">\n",
       "      <th></th>\n",
       "      <th>App</th>\n",
       "      <th>Translated_Review</th>\n",
       "      <th>Sentiment</th>\n",
       "    </tr>\n",
       "  </thead>\n",
       "  <tbody>\n",
       "    <tr>\n",
       "      <th>count</th>\n",
       "      <td>64295</td>\n",
       "      <td>37427</td>\n",
       "      <td>37432</td>\n",
       "    </tr>\n",
       "    <tr>\n",
       "      <th>unique</th>\n",
       "      <td>1074</td>\n",
       "      <td>27994</td>\n",
       "      <td>3</td>\n",
       "    </tr>\n",
       "    <tr>\n",
       "      <th>top</th>\n",
       "      <td>Bowmasters</td>\n",
       "      <td>Good</td>\n",
       "      <td>Positive</td>\n",
       "    </tr>\n",
       "    <tr>\n",
       "      <th>freq</th>\n",
       "      <td>320</td>\n",
       "      <td>247</td>\n",
       "      <td>23998</td>\n",
       "    </tr>\n",
       "  </tbody>\n",
       "</table>\n",
       "</div>"
      ],
      "text/plain": [
       "               App Translated_Review Sentiment\n",
       "count        64295             37427     37432\n",
       "unique        1074             27994         3\n",
       "top     Bowmasters              Good  Positive\n",
       "freq           320               247     23998"
      ]
     },
     "execution_count": 7,
     "metadata": {},
     "output_type": "execute_result"
    }
   ],
   "source": [
    "review_data.describe(include = ['object']) # show description for only object type column "
   ]
  },
  {
   "cell_type": "code",
   "execution_count": 8,
   "id": "e6bc62a0-c1a1-43ae-8a07-2b164d6f4fc1",
   "metadata": {},
   "outputs": [
    {
     "data": {
      "text/plain": [
       "App                        0.000000\n",
       "Translated_Review         41.788631\n",
       "Sentiment                 41.780854\n",
       "Sentiment_Polarity        41.780854\n",
       "Sentiment_Subjectivity    41.780854\n",
       "dtype: float64"
      ]
     },
     "execution_count": 8,
     "metadata": {},
     "output_type": "execute_result"
    }
   ],
   "source": [
    "review_data.isnull().sum() # number of null in each column\n",
    "((review_data.isnull().sum().sum())/(review_data.shape[0]*review_data.shape[1]))*100 # total number of null\n",
    "(review_data.isnull().sum()/review_data.shape[0])*100 # percentage null in each column"
   ]
  },
  {
   "cell_type": "code",
   "execution_count": 9,
   "id": "14d0458d-4dfb-44b1-8e68-2690b72b3820",
   "metadata": {},
   "outputs": [],
   "source": [
    "review_data.dropna(inplace = True) # Drop all nulls"
   ]
  },
  {
   "cell_type": "code",
   "execution_count": 10,
   "id": "45ca0e77-6931-4bc5-8e3a-2209ecee9c73",
   "metadata": {},
   "outputs": [],
   "source": [
    "# convert object type columns to numeric type\n",
    "review_data['Sentiment_Polarity'] = pd.to_numeric(review_data['Sentiment_Polarity'], errors = 'coerce')\n",
    "review_data['Sentiment_Subjectivity'] = pd.to_numeric(review_data['Sentiment_Subjectivity'], errors = 'coerce')"
   ]
  },
  {
   "cell_type": "code",
   "execution_count": 11,
   "id": "07fd5f1a-e744-4fbc-8813-98ff1b604c0d",
   "metadata": {},
   "outputs": [
    {
     "name": "stdout",
     "output_type": "stream",
     "text": [
      "{'neg': 0.0, 'neu': 0.396, 'pos': 0.604, 'compound': 0.8797}\n"
     ]
    }
   ],
   "source": [
    "# Create the analyzer class from SentimentIntensityAnalyzer\n",
    "analyzer = SentimentIntensityAnalyzer()\n",
    "\n",
    "# Analyze a sample sentence\n",
    "review = 'this app is very awesome. i love it a lot!'\n",
    "scores = analyzer.polarity_scores(review)\n",
    "print(scores)\n"
   ]
  },
  {
   "cell_type": "code",
   "execution_count": 12,
   "id": "6d09ffde-3219-4300-9e52-82204ba5ed07",
   "metadata": {},
   "outputs": [],
   "source": [
    "# 🎯 How to Use the compound Score\n",
    "# The compound score is a normalized, weighted score between -1 and 1:\n",
    "\n",
    "# Compound Score Range\tSentiment\n",
    "# ≥ 0.5\t               Positive\n",
    "# > -0.5 and < 0.5\t   Neutral\n",
    "# ≤ -0.5\t               Negative"
   ]
  },
  {
   "cell_type": "code",
   "execution_count": 13,
   "id": "e29767e0-31db-49d4-b09f-513076fc8ef8",
   "metadata": {},
   "outputs": [
    {
     "name": "stdout",
     "output_type": "stream",
     "text": [
      "{'neg': 0.573, 'neu': 0.427, 'pos': 0.0, 'compound': -0.8427}\n",
      "{'neg': 0.0, 'neu': 0.633, 'pos': 0.367, 'compound': 0.4404}\n"
     ]
    }
   ],
   "source": [
    "review = 'this app is very bad. i hate it a lot!'\n",
    "scores = analyzer.polarity_scores(review)\n",
    "print(scores)\n",
    "review = 'this app is normal. okey thanks'\n",
    "scores = analyzer.polarity_scores(review)\n",
    "print(scores)\n"
   ]
  },
  {
   "cell_type": "code",
   "execution_count": 14,
   "id": "35f28117-511d-4e6d-9c71-43f172285d01",
   "metadata": {},
   "outputs": [],
   "source": [
    "review_data['Sentiment_Score'] = review_data['Translated_Review'].apply(lambda x: analyzer.polarity_scores(str(x))['compound'])"
   ]
  },
  {
   "cell_type": "code",
   "execution_count": 15,
   "id": "57401575-09ee-4a72-9282-1dbed11e284c",
   "metadata": {},
   "outputs": [],
   "source": [
    "sentiment_counts = review_data.pivot_table(\n",
    "    index = 'App',\n",
    "    columns = 'Sentiment',\n",
    "    values = 'Translated_Review',\n",
    "    aggfunc = 'count',\n",
    "    fill_value = 0\n",
    ").rename(columns = {\n",
    "    'Positive':'Positive_Review',\n",
    "    'Negative':'Negative_Review',\n",
    "    'Neutral':'Neutral_Review'\n",
    "})"
   ]
  },
  {
   "cell_type": "code",
   "execution_count": 16,
   "id": "35e0687d-b0bc-46b2-96c0-d0843ff8ea1f",
   "metadata": {},
   "outputs": [],
   "source": [
    "sentiment_agg = review_data.groupby('App').agg({\n",
    "    'Translated_Review':'count',\n",
    "    'Sentiment_Polarity':'mean',\n",
    "    'Sentiment_Subjectivity':'mean',\n",
    "    'Sentiment_Score':'mean'\n",
    "}).rename(columns = {\n",
    "    'Translated_Review':'Total_Review',\n",
    "    'Sentiment_Polarity':'Avg_Polarity',\n",
    "    'Sentiment_Subjectivity':'Avg_Subjectivity',\n",
    "    'Sentiment_Score':'Avg_Sentiment_Score'\n",
    "})"
   ]
  },
  {
   "cell_type": "code",
   "execution_count": 17,
   "id": "2087d43f-50f5-48f8-9811-1975c0f83078",
   "metadata": {},
   "outputs": [],
   "source": [
    "clean_review_data = pd.merge(sentiment_agg, sentiment_counts, left_index = True, right_index = True).reset_index()"
   ]
  },
  {
   "cell_type": "code",
   "execution_count": 18,
   "id": "648e07f3-61cc-4dde-9ff7-603bc2ff853c",
   "metadata": {},
   "outputs": [],
   "source": [
    "output_file_path = \"D:/Google Play Store Intern/Clean User Reviews.csv\"\n",
    "clean_review_data.to_csv(output_file_path, index = False)"
   ]
  }
 ],
 "metadata": {
  "kernelspec": {
   "display_name": "Python 3 (ipykernel)",
   "language": "python",
   "name": "python3"
  },
  "language_info": {
   "codemirror_mode": {
    "name": "ipython",
    "version": 3
   },
   "file_extension": ".py",
   "mimetype": "text/x-python",
   "name": "python",
   "nbconvert_exporter": "python",
   "pygments_lexer": "ipython3",
   "version": "3.13.2"
  }
 },
 "nbformat": 4,
 "nbformat_minor": 5
}
