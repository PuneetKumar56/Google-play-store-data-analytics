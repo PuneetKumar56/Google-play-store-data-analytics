{
 "cells": [
  {
   "cell_type": "code",
   "execution_count": 8,
   "id": "afa00f17-bf8b-4478-b686-38484c346bc8",
   "metadata": {},
   "outputs": [],
   "source": [
    "import pandas as pd\n",
    "import numpy as np\n",
    "import plotly.express as px\n",
    "import plotly.io as pio\n",
    "from sklearn.model_selection import train_test_split\n",
    "from sklearn.ensemble import RandomForestRegressor\n",
    "from sklearn.metrics import mean_squared_error, r2_score\n",
    "from nltk.sentiment.vader import SentimentIntensityAnalyzer\n",
    "import nltk\n",
    "import webbrowser\n",
    "import os"
   ]
  },
  {
   "cell_type": "code",
   "execution_count": 9,
   "id": "bc1cef91-616d-47d2-a0ff-41edc86ee7ed",
   "metadata": {},
   "outputs": [],
   "source": [
    "app_data = pd.read_csv(\"D:/Google Play Store Intern/Clean Play Store Data.csv\")"
   ]
  },
  {
   "cell_type": "code",
   "execution_count": 21,
   "id": "04472efd-90ad-4de0-b6b6-19a7ad069dea",
   "metadata": {},
   "outputs": [],
   "source": [
    "review_data = pd.read_csv(\"D:/Google Play Store Intern/Clean User Reviews.csv\")"
   ]
  },
  {
   "cell_type": "code",
   "execution_count": 11,
   "id": "6ba672ad-e714-4de4-aef3-020517ee6bd4",
   "metadata": {},
   "outputs": [
    {
     "data": {
      "text/plain": [
       "(9659, 16)"
      ]
     },
     "execution_count": 11,
     "metadata": {},
     "output_type": "execute_result"
    }
   ],
   "source": [
    "app_data.shape, review_data.shape"
   ]
  },
  {
   "cell_type": "code",
   "execution_count": 13,
   "id": "4d25481f-75fa-4e0c-8546-cc88e392e1d3",
   "metadata": {},
   "outputs": [],
   "source": [
    "html_file_path = 'C:\\\\Users\\\\PUNEET\\\\Desktop\\\\ml\\\\Google Play Store\\\\plotly_graph1'\n",
    "if not os.path.exists(html_file_path):\n",
    "    os.makedirs(html_file_path)"
   ]
  },
  {
   "cell_type": "code",
   "execution_count": 14,
   "id": "a6c6436e-2510-4194-ae36-5d5e213e354b",
   "metadata": {},
   "outputs": [],
   "source": [
    "# Save each plotly Figure to a html file\n",
    "plot_containers = ''\n",
    "def save_Plot_as_html(fig, filename, insight):\n",
    "    global plot_containers\n",
    "    filepath = os.path.join(html_file_path, filename)\n",
    "    html_content = pio.to_html(fig,full_html = False, include_plotlyjs = 'inline')\n",
    "    # Append the plot and its insights into plot_containers\n",
    "    plot_containers += f'''\n",
    "    <div class = \"plot-container\" id = \"{filename}\" onclick = \"openPlot('{filename}')\">\n",
    "        <div class = \"plot\">{html_content}</div>\n",
    "        <div class = \"insights\">{insight}</div>\n",
    "    </div>\n",
    "    '''\n",
    "    fig.write_html(filepath, full_html = False, include_plotlyjs = 'inline')\n",
    "    "
   ]
  },
  {
   "cell_type": "code",
   "execution_count": 15,
   "id": "d1351f59-ac67-448d-8060-ff818815d8ce",
   "metadata": {},
   "outputs": [],
   "source": [
    "plot_width = 500,\n",
    "plot_height = 400,\n",
    "plot_bg_color = 'black',\n",
    "text_color = '#0E2148',\n",
    "title_font = {'size':16},\n",
    "axis_font = {'size':12}"
   ]
  },
  {
   "cell_type": "code",
   "execution_count": 16,
   "id": "6700fa18-ea6f-45dc-bf59-8ebf526c12d8",
   "metadata": {},
   "outputs": [],
   "source": [
    "# Figure 1: Top 10 app categories on playstore\n",
    "Category_count = app_data['Category'].value_counts().nlargest(10)\n",
    "# print(Category_count.index,Category_count.values)\n",
    "fig1 = px.bar(\n",
    "    x = Category_count.index,\n",
    "    y = Category_count.values,\n",
    "    labels = {'x': 'Category', 'y': 'Count'},\n",
    "    title = 'Top Categories on PlayStore',\n",
    "    color = Category_count.index,\n",
    "    color_discrete_sequence = px.colors.qualitative.Plotly,\n",
    "    width = 500,\n",
    "    height = 400\n",
    ")\n",
    "\n",
    "fig1.update_layout(\n",
    "    plot_bgcolor='#7F8CAA',\n",
    "    paper_bgcolor='#898AC4',\n",
    "    font_color='#0E2148',\n",
    "    title_font={'size': 16},\n",
    "    xaxis=dict(title_font={'size': 12}),\n",
    "    yaxis=dict(title_font={'size': 12}),\n",
    "    margin=dict(l=10, r=10, t=30, b=10)\n",
    ")\n",
    "\n",
    "save_Plot_as_html(fig1,'Category graph 1.html', 'The top category on the play store are dominated by tools, entertainment and productivity apps')"
   ]
  },
  {
   "cell_type": "code",
   "execution_count": 17,
   "id": "36a97519-c683-4667-a237-b672da4998f5",
   "metadata": {},
   "outputs": [],
   "source": [
    "# Figure 2 -> Pie Chart of Free vs Paid App on Playstore\n",
    "Type_count = app_data['Type'].value_counts()\n",
    "# print(Type_count)\n",
    "fig2 = px.pie(\n",
    "    names = Type_count.index,\n",
    "    values = Type_count.values,\n",
    "    title = 'App type distribution',\n",
    "    color_discrete_sequence = px.colors.qualitative.Plotly,\n",
    "    width = 500,\n",
    "    height = 400\n",
    ")\n",
    "\n",
    "fig2.update_layout(\n",
    "    plot_bgcolor='#7F8CAA',\n",
    "    paper_bgcolor='#898AC4',\n",
    "    font_color='#0E2148',\n",
    "    title_font={'size': 16},\n",
    "    margin=dict(l=10, r=10, t=30, b=10)\n",
    ")\n",
    "save_Plot_as_html(fig2,'Type graph 2.html', 'Mostly free apps on playstore are free, Indicating a strategy to attracting users first and nonetize through ads or in apps purcheses')"
   ]
  },
  {
   "cell_type": "code",
   "execution_count": 18,
   "id": "09382591-7d13-455e-a0bf-bae3ea7f1e77",
   "metadata": {},
   "outputs": [],
   "source": [
    "# Figure 3 -> Histogram Plot of Rating Distribution\n",
    "fig3 = px.histogram(\n",
    "    app_data,\n",
    "    x = 'Rating',\n",
    "    nbins = 20,\n",
    "    title = 'Rating distribution',\n",
    "    color_discrete_sequence = ['#3E4CAC'],\n",
    "    width = 500,\n",
    "    height = 400\n",
    ")\n",
    "\n",
    "fig3.update_layout(\n",
    "    plot_bgcolor='#7F8CAA',\n",
    "    paper_bgcolor='#898AC4',\n",
    "    font_color='#0E2148',\n",
    "    title_font={'size': 16},\n",
    "    xaxis=dict(title_font={'size': 12}),\n",
    "    yaxis=dict(title_font={'size': 12}),\n",
    "    margin=dict(l=10, r=10, t=30, b=10)\n",
    ")\n",
    "save_Plot_as_html(fig3,'Rating graph 3.html', 'rating are skewed towards higher values, suggesting that most apps are rated favorably by users')"
   ]
  },
  {
   "cell_type": "code",
   "execution_count": 24,
   "id": "03174118-8122-4e68-b71f-25eead56f4d0",
   "metadata": {},
   "outputs": [],
   "source": [
    "# Figure 4: Sentiment Bar Graph\n",
    "Sentiment_count = review_data['Avg_Sentiment_Score'].value_counts()\n",
    "fig4 = px.bar(\n",
    "    x = Sentiment_count.index,\n",
    "    y = Sentiment_count.values,\n",
    "    labels = {'x': 'Sentiment Score', 'y': 'Count'},\n",
    "    title = 'Sentiment Distribution',\n",
    "    color = Sentiment_count.index,\n",
    "    color_discrete_sequence = ['#3E4CAC'],\n",
    "    width = 500,\n",
    "    height = 400\n",
    ")\n",
    "\n",
    "fig4.update_layout(\n",
    "    plot_bgcolor='#7F8CAA',\n",
    "    paper_bgcolor='#898AC4',\n",
    "    font_color='#0E2148',\n",
    "    title_font={'size': 16},\n",
    "    xaxis=dict(title_font={'size': 12}),\n",
    "    yaxis=dict(title_font={'size': 12}),\n",
    "    margin=dict(l=10, r=10, t=30, b=10)\n",
    ")\n",
    "\n",
    "save_Plot_as_html(fig4,'Sentiment graph 4.html', 'Sentiment in review show a mix of positive and negative feedback, with a slight lean towards positive sentiments')"
   ]
  },
  {
   "cell_type": "code",
   "execution_count": 25,
   "id": "a21f64cc-e445-45eb-99d3-c91921b5f5b7",
   "metadata": {},
   "outputs": [],
   "source": [
    "# Figure 5: Install over categories bar chart \n",
    "installs_by_Category= app_data.groupby('Category')['Installs'].sum().nlargest(10)\n",
    "fig5 = px.bar(\n",
    "    x = installs_by_Category.index,\n",
    "    y = installs_by_Category.values,\n",
    "    labels = {'x': 'Category', 'y': 'install'},\n",
    "    title = 'Top App Installs by Category',\n",
    "    color = installs_by_Category.index,\n",
    "    color_discrete_sequence = px.colors.sequential.Blues,\n",
    "    width = 500,\n",
    "    height = 400\n",
    ")\n",
    "\n",
    "fig5.update_layout(\n",
    "    plot_bgcolor='#7F8CAA',\n",
    "    paper_bgcolor='#898AC4',\n",
    "    font_color='#0E2148',\n",
    "    title_font={'size': 16},\n",
    "    xaxis=dict(title_font={'size': 12}),\n",
    "    yaxis=dict(title_font={'size': 12}),\n",
    "    margin=dict(l=10, r=10, t=30, b=10)\n",
    ")\n",
    "\n",
    "save_Plot_as_html(fig5,'Installs graph 5.html', 'The Category with the most install are games and social app, reflecting their Broad Appeal and daily usage')"
   ]
  },
  {
   "cell_type": "code",
   "execution_count": 26,
   "id": "cca94341-261d-4a44-8f35-09a09c6826eb",
   "metadata": {},
   "outputs": [],
   "source": [
    "# Figure 6: update apps over time analysis\n",
    "Updates_per_year= app_data['Update_Year'].value_counts().sort_index()\n",
    "fig6 = px.line(\n",
    "    x=Updates_per_year.index,\n",
    "    y=Updates_per_year.values,\n",
    "    labels={'x': 'Year', 'y': 'Number of Updates'},\n",
    "    title='Number of App Updates Over the Years',\n",
    "    color_discrete_sequence=['#3E4CAC'],\n",
    "    width=500,\n",
    "    height=400\n",
    ")\n",
    "\n",
    "save_Plot_as_html(fig6,'app_update graph 6.html', 'apps Updates has been over increasing over the Year, it showing the developer actively Maintaining and improving their apps')"
   ]
  },
  {
   "cell_type": "code",
   "execution_count": 27,
   "id": "01167c7e-be17-4a24-9e66-78156a4230b7",
   "metadata": {},
   "outputs": [],
   "source": [
    "# Figure 7: Revenue by apps bar chart \n",
    "Revenue_by_category = app_data.groupby('Category')['Revenue'].sum().nlargest(10)\n",
    "fig7 = px.bar(\n",
    "    x = Revenue_by_category.index,\n",
    "    y = Revenue_by_category.values,\n",
    "    labels = {'x':'App Categories','y':'Revenue'},\n",
    "    title = 'Revenue By Categories',\n",
    "    color = Revenue_by_category.index,\n",
    "    color_discrete_sequence = px.colors.sequential.Greens,\n",
    "    width = 500,\n",
    "    height = 400\n",
    ")\n",
    "fig7.update_layout(\n",
    "    plot_bgcolor = '#7F8CAA',\n",
    "    paper_bgcolor = '#898AC4',\n",
    "    font_color = '#0E2148',\n",
    "    title_font = {'size':16},\n",
    "    xaxis = dict(title_font = {'size':14}),\n",
    "    yaxis = dict(title_font = {'size':14}),\n",
    "    margin = dict(l=10,r=10,t=30,b=10)\n",
    ")\n",
    "save_Plot_as_html(fig7,'Revenue graph 7.html', 'Family and lifestyle App Category generate more revenue, indicating their monetizing potential')"
   ]
  },
  {
   "cell_type": "code",
   "execution_count": 28,
   "id": "46a57c20-743e-4837-9b51-3c432b2a2662",
   "metadata": {},
   "outputs": [],
   "source": [
    "# Figure 8 : Top Genres \n",
    "genre_count = app_data['Genres'].str.split(';',expand = True).stack().value_counts().nlargest(10)\n",
    "fig8 = px.bar(\n",
    "    x = genre_count.index,\n",
    "    y = genre_count.values,\n",
    "    labels = {'x':'Genre','y':'Count'},\n",
    "    title = 'Genres Count',\n",
    "    color = genre_count.index,\n",
    "    color_discrete_sequence = px.colors.sequential.RdPu,\n",
    "    width = 500,\n",
    "    height = 400\n",
    ")\n",
    "fig8.update_layout(\n",
    "    plot_bgcolor = '#7F8CAA',\n",
    "    paper_bgcolor = '#898AC4',\n",
    "    font_color = '#0E2148',\n",
    "    title_font = {'size':16},\n",
    "    xaxis = dict(title_font = {'size':14}),\n",
    "    yaxis = dict(title_font = {'size':14}),\n",
    "    margin = dict(l=10,r=10,t=30,b=10)\n",
    ")\n",
    "save_Plot_as_html(fig8,'Genre graph 8.html', 'Tools and education genre are the most common, reflecting users preference for engaging and easy to use')"
   ]
  },
  {
   "cell_type": "code",
   "execution_count": 29,
   "id": "97e0d9e5-c1b4-4581-aada-bec0667a6342",
   "metadata": {},
   "outputs": [],
   "source": [
    "# Figure 9: Rating on apps chart \n",
    "fig9 = px.scatter(\n",
    "    app_data,\n",
    "    x = 'Last Updated',\n",
    "    y = 'Rating',\n",
    "    color = 'Type',\n",
    "    labels = {'x':'Genre','y':'Count'},\n",
    "    title = 'Impact of last update on rating',\n",
    "    color_discrete_sequence = px.colors.qualitative.Vivid,\n",
    "    width = 500,\n",
    "    height = 400\n",
    ")\n",
    "fig9.update_layout(\n",
    "    plot_bgcolor = '#7F8CAA',\n",
    "    paper_bgcolor = '#898AC4',\n",
    "    font_color = '#0E2148',\n",
    "    title_font = {'size':16},\n",
    "    xaxis = dict(title_font = {'size':14}),\n",
    "    yaxis = dict(title_font = {'size':14}),\n",
    "    margin = dict(l=10,r=10,t=30,b=10)\n",
    ")\n",
    "save_Plot_as_html(fig9,'Rating graph 9.html', 'The Scatter plot show the correlation between Rating and Last update, Suggesting the more frequent updates for better user experience')"
   ]
  },
  {
   "cell_type": "code",
   "execution_count": 30,
   "id": "d311244b-09f7-40ca-b48f-881c7e64f9b8",
   "metadata": {},
   "outputs": [],
   "source": [
    "# Figure 10: Paid Vs Free apps analysis\n",
    "fig10 = px.box(\n",
    "    app_data,\n",
    "    x = 'Type',\n",
    "    y = 'Rating',\n",
    "    color = 'Type',\n",
    "    title = 'Rating for Paid vs Free App',\n",
    "    color_discrete_sequence = px.colors.qualitative.Vivid,\n",
    "    width = 500,\n",
    "    height = 400\n",
    ")\n",
    "fig10.update_layout(\n",
    "    plot_bgcolor = '#7F8CAA',\n",
    "    paper_bgcolor = '#898AC4',\n",
    "    font_color = '#0E2148',\n",
    "    title_font = {'size':16},\n",
    "    xaxis = dict(title_font = {'size':14}),\n",
    "    yaxis = dict(title_font = {'size':14}),\n",
    "    margin = dict(l=10,r=10,t=30,b=10)\n",
    ")\n",
    "save_Plot_as_html(fig10,'Paid Vs Free graph 10.html', 'The Paid Apps Generally have Higher rating compare to Free Apps, Suggesting That Users expect Higher quality for their pay for apps')"
   ]
  },
  {
   "cell_type": "code",
   "execution_count": 31,
   "id": "1a00d24d-6de5-4957-a39c-946496eb858f",
   "metadata": {},
   "outputs": [],
   "source": [
    "plot_containers_Split = plot_containers.split('</div>')"
   ]
  },
  {
   "cell_type": "code",
   "execution_count": 32,
   "id": "07a89c61-7416-45be-85a3-b06f6dca13f7",
   "metadata": {},
   "outputs": [],
   "source": [
    "if len(plot_containers_Split) > 1:\n",
    "    # Take the second last split segment and close the div tag\n",
    "    final_plot = plot_containers_Split[-2] + '</div>'\n",
    "else:\n",
    "    # Use the whole original container string if there's no second last part\n",
    "    final_plot = plot_containers"
   ]
  },
  {
   "cell_type": "code",
   "execution_count": 33,
   "id": "1a572593-15b8-49fd-9d57-50d6f46771a1",
   "metadata": {},
   "outputs": [],
   "source": [
    "# webpage for showing all charts\n",
    "# Adjust height, width and style for all charts\n",
    "dashboard_html = \"\"\"\n",
    "<!DOCTYPE html>\n",
    "<html lang=\"en\">\n",
    "  <head>\n",
    "    <meta charset=\"UTF-8\" />\n",
    "    <meta name=\"viewport\" content=\"width=device-width, initial-scale=1.0\" />\n",
    "    <title>Google Play Store Review Analytics</title>\n",
    "    <style>\n",
    "        body{{\n",
    "            font-family: Arial, sans-serif;\n",
    "            background-color: #333;\n",
    "            color: #fff;\n",
    "            padding: 0;\n",
    "            margin: 0;\n",
    "        }}\n",
    "        .header{{\n",
    "            display: flex;\n",
    "            align-items: center;\n",
    "            justify-content: center;\n",
    "            padding: 20px;\n",
    "            background-color: #444;\n",
    "        }}\n",
    "        .header img {{\n",
    "            margin: 0 10px;\n",
    "            height: 50px;\n",
    "        }}\n",
    "        \n",
    "        .container {{\n",
    "            display: flex;\n",
    "            flex-wrap: wrap;\n",
    "            justify-content: center;\n",
    "            padding: 20px;\n",
    "        }}\n",
    "        \n",
    "        .plot-container {{\n",
    "            border: 2px solid #555;\n",
    "            margin: 10px;\n",
    "            padding: 10px;\n",
    "            width: {plot_width}px;\n",
    "            height: {plot_height}px;\n",
    "            overflow: hidden;\n",
    "            position: relative;\n",
    "            cursor: pointer;\n",
    "        }}\n",
    "        \n",
    "        .insights {{\n",
    "            display: none;\n",
    "            position: absolute;\n",
    "            right: 10px;\n",
    "            top: 10px;\n",
    "            background-color: rgba(0, 0, 0, 0.7);\n",
    "            padding: 5px;\n",
    "            border-radius: 5px;\n",
    "            color: #fff;\n",
    "        }}\n",
    "        \n",
    "        .plot-container:hover .insights {{\n",
    "            display: block;\n",
    "        }}\n",
    "    </style>\n",
    "    <script>\n",
    "        function openPlot(filename) {{\n",
    "            window.open(filename, '_blank');\n",
    "        }}\n",
    "    </script>\n",
    "  </head>\n",
    "  <body>\n",
    "      <div class = \"header\">\n",
    "          <img src=\"https://upload.wikimedia.org/wikipedia/commons/2/2f/Google_2015_logo.svg\" alt=\"Google Logo\" height=\"50\">\n",
    "          <h1>Google Play Store Review Analytics</h1>\n",
    "          <img src=\"https://upload.wikimedia.org/wikipedia/commons/thumb/7/78/Google_Play_Store_badge_EN.svg/1024px-Google_Play_Store_badge_EN.svg.png\" alt=\"Google Play Logo\" height=\"50\">\n",
    "      </div>\n",
    "      <div class = \"container\">\n",
    "          {plots}\n",
    "      </div>\n",
    "  </body>\n",
    "</html>\n",
    "\"\"\""
   ]
  },
  {
   "cell_type": "code",
   "execution_count": 34,
   "id": "edd79203-4ac8-4389-ba7f-2e184219c567",
   "metadata": {},
   "outputs": [],
   "source": [
    "final_html = dashboard_html.format(plots=plot_containers,plot_width=plot_width,plot_height=plot_height)"
   ]
  },
  {
   "cell_type": "code",
   "execution_count": 35,
   "id": "2d62e861-07b2-4f1c-b0d8-a0438cd99257",
   "metadata": {},
   "outputs": [],
   "source": [
    "dashboard_path = os.path.join(html_file_path, \"web page.html\")"
   ]
  },
  {
   "cell_type": "code",
   "execution_count": 36,
   "id": "2e549fd6-0807-48c5-a290-071e0326bb4f",
   "metadata": {},
   "outputs": [],
   "source": [
    "with open(dashboard_path, \"w\", encoding = \"utf-8\") as f:\n",
    "    f.write(final_html)"
   ]
  },
  {
   "cell_type": "code",
   "execution_count": 38,
   "id": "18445004-1223-4a1d-bfc3-f84a2a37b0f6",
   "metadata": {},
   "outputs": [
    {
     "data": {
      "text/plain": [
       "True"
      ]
     },
     "execution_count": 38,
     "metadata": {},
     "output_type": "execute_result"
    }
   ],
   "source": [
    "webbrowser.open('file://'+os.path.realpath(dashboard_path))"
   ]
  }
 ],
 "metadata": {
  "kernelspec": {
   "display_name": "Python 3 (ipykernel)",
   "language": "python",
   "name": "python3"
  },
  "language_info": {
   "codemirror_mode": {
    "name": "ipython",
    "version": 3
   },
   "file_extension": ".py",
   "mimetype": "text/x-python",
   "name": "python",
   "nbconvert_exporter": "python",
   "pygments_lexer": "ipython3",
   "version": "3.13.2"
  }
 },
 "nbformat": 4,
 "nbformat_minor": 5
}
